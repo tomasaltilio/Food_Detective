{
 "cells": [
  {
   "cell_type": "markdown",
   "id": "competent-improvement",
   "metadata": {},
   "source": [
    "# Preprocessing I"
   ]
  },
  {
   "cell_type": "code",
   "execution_count": 3,
   "id": "certain-wellington",
   "metadata": {},
   "outputs": [],
   "source": [
    "import numpy as np\n",
    "import pandas as pd\n",
    "import h5py\n",
    "import matplotlib.pyplot as plt\n",
    "import sys"
   ]
  },
  {
   "cell_type": "code",
   "execution_count": 6,
   "id": "foster-option",
   "metadata": {},
   "outputs": [],
   "source": [
    "f=h5py.File('/Users/Santiago/Desktop/data/dataset/food_c101_n10099_r64x64x3.h5','r')"
   ]
  },
  {
   "cell_type": "code",
   "execution_count": 8,
   "id": "brown-kelly",
   "metadata": {},
   "outputs": [
    {
     "data": {
      "text/plain": [
       "<KeysViewHDF5 ['category', 'category_names', 'images']>"
      ]
     },
     "execution_count": 8,
     "metadata": {},
     "output_type": "execute_result"
    }
   ],
   "source": [
    "f.keys()"
   ]
  },
  {
   "cell_type": "code",
   "execution_count": 9,
   "id": "intelligent-sixth",
   "metadata": {},
   "outputs": [
    {
     "data": {
      "text/plain": [
       "<HDF5 dataset \"category\": shape (10099, 101), type \"|b1\">"
      ]
     },
     "execution_count": 9,
     "metadata": {},
     "output_type": "execute_result"
    }
   ],
   "source": [
    "f['category']"
   ]
  },
  {
   "cell_type": "code",
   "execution_count": 11,
   "id": "obvious-northeast",
   "metadata": {},
   "outputs": [
    {
     "data": {
      "text/plain": [
       "<HDF5 dataset \"category_names\": shape (101,), type \"|S40\">"
      ]
     },
     "execution_count": 11,
     "metadata": {},
     "output_type": "execute_result"
    }
   ],
   "source": [
    "f['category_names']"
   ]
  },
  {
   "cell_type": "code",
   "execution_count": 12,
   "id": "considered-coating",
   "metadata": {},
   "outputs": [
    {
     "data": {
      "text/plain": [
       "<HDF5 dataset \"images\": shape (10099, 64, 64, 3), type \"|u1\">"
      ]
     },
     "execution_count": 12,
     "metadata": {},
     "output_type": "execute_result"
    }
   ],
   "source": [
    "f['images']"
   ]
  },
  {
   "cell_type": "code",
   "execution_count": 13,
   "id": "suitable-lighting",
   "metadata": {},
   "outputs": [],
   "source": [
    "from tensorflow.keras.preprocessing.image import ImageDataGenerator\n",
    "datagenerator = ImageDataGenerator(rescale = 1./255,\n",
    "                                   rotation_range = 45,\n",
    "                                   zoom_range = 0.3,\n",
    "                                   brightness_range = [0.7, 1.3])"
   ]
  },
  {
   "cell_type": "code",
   "execution_count": 14,
   "id": "shared-class",
   "metadata": {},
   "outputs": [],
   "source": [
    "train_generator = datagenerator.flow(x =  f['images'], y = f['category'],\n",
    "                                     batch_size = 1)"
   ]
  },
  {
   "cell_type": "code",
   "execution_count": 15,
   "id": "effective-postcard",
   "metadata": {},
   "outputs": [
    {
     "data": {
      "text/plain": [
       "10099"
      ]
     },
     "execution_count": 15,
     "metadata": {},
     "output_type": "execute_result"
    }
   ],
   "source": [
    "len(train_generator)"
   ]
  },
  {
   "cell_type": "code",
   "execution_count": 16,
   "id": "alpha-brave",
   "metadata": {},
   "outputs": [
    {
     "data": {
      "text/plain": [
       "(1, 64, 64, 3)"
      ]
     },
     "execution_count": 16,
     "metadata": {},
     "output_type": "execute_result"
    }
   ],
   "source": [
    "train_generator[0][0].shape"
   ]
  },
  {
   "cell_type": "markdown",
   "id": "basic-gambling",
   "metadata": {},
   "source": [
    "# Preprocessing II"
   ]
  },
  {
   "cell_type": "code",
   "execution_count": 31,
   "id": "liable-singer",
   "metadata": {},
   "outputs": [],
   "source": [
    "import numpy as np\n",
    "import pandas as pd\n",
    "from matplotlib import pyplot as plt\n",
    "import seaborn as sns\n",
    "from pathlib import Path\n",
    "import os   \n",
    "\n",
    "import tensorflow as tf\n",
    "\n",
    "from sklearn.model_selection import train_test_split\n",
    "from sklearn.metrics import confusion_matrix,classification_report"
   ]
  },
  {
   "cell_type": "code",
   "execution_count": 34,
   "id": "ranking-journalism",
   "metadata": {},
   "outputs": [],
   "source": [
    "image_files = Path('/Users/Santiago/Desktop/data/dataset/images') "
   ]
  },
  {
   "cell_type": "code",
   "execution_count": 35,
   "id": "enormous-crest",
   "metadata": {},
   "outputs": [],
   "source": [
    "images = list(image_files.glob(r'**/*.jpg'))\n",
    "label = list(map(lambda x : os.path.split(os.path.split(x)[0])[1], images))\n",
    "imagedata = pd.DataFrame({'Files' : images, \"label\" : label}).astype(str).sample(frac = 1.0, random_state = 1).reset_index(drop=True)\n",
    "\n",
    "category_samples = []\n",
    "for category in imagedata['label'].unique():\n",
    "    category_slice = imagedata.query('label== @category')\n",
    "    category_samples.append(category_slice.sample(300, random_state=1))\n",
    "image_df = pd.concat(category_samples, axis=0).sample(frac=1.0, random_state =1).reset_index(drop=True)"
   ]
  },
  {
   "cell_type": "code",
   "execution_count": 36,
   "id": "bacterial-space",
   "metadata": {},
   "outputs": [
    {
     "data": {
      "text/plain": [
       "nachos                 300\n",
       "spaghetti_bolognese    300\n",
       "caprese_salad          300\n",
       "takoyaki               300\n",
       "shrimp_and_grits       300\n",
       "                      ... \n",
       "ceviche                300\n",
       "pancakes               300\n",
       "poutine                300\n",
       "bruschetta             300\n",
       "cup_cakes              300\n",
       "Name: label, Length: 101, dtype: int64"
      ]
     },
     "execution_count": 36,
     "metadata": {},
     "output_type": "execute_result"
    }
   ],
   "source": [
    "image_df['label'].value_counts() "
   ]
  },
  {
   "cell_type": "code",
   "execution_count": 37,
   "id": "nonprofit-course",
   "metadata": {},
   "outputs": [],
   "source": [
    "traindata, testdata = train_test_split(image_df, train_size =0.7, random_state =1)"
   ]
  },
  {
   "cell_type": "code",
   "execution_count": 38,
   "id": "known-vancouver",
   "metadata": {},
   "outputs": [],
   "source": [
    "train_generator = tf.keras.preprocessing.image.ImageDataGenerator(\n",
    "    preprocessing_function = tf.keras.applications.mobilenet_v2.preprocess_input,\n",
    "    validation_split=0.2\n",
    ")"
   ]
  },
  {
   "cell_type": "code",
   "execution_count": 39,
   "id": "radio-mason",
   "metadata": {},
   "outputs": [],
   "source": [
    "test_generator = tf.keras.preprocessing.image.ImageDataGenerator(\n",
    "    preprocessing_function = tf.keras.applications.mobilenet_v2.preprocess_input\n",
    ")"
   ]
  },
  {
   "cell_type": "code",
   "execution_count": 40,
   "id": "divided-constitution",
   "metadata": {},
   "outputs": [
    {
     "name": "stdout",
     "output_type": "stream",
     "text": [
      "Found 16968 validated image filenames belonging to 101 classes.\n"
     ]
    }
   ],
   "source": [
    "train_images = train_generator.flow_from_dataframe(\n",
    "    dataframe=traindata,\n",
    "    x_col='Files',\n",
    "    y_col='label',\n",
    "    target=(224,224),\n",
    "    color_mode='rgb',\n",
    "    class_mode='categorical',\n",
    "    batch_size=32,\n",
    "    seed=42,\n",
    "    shuffle=True,\n",
    "    subset ='training'\n",
    ")"
   ]
  },
  {
   "cell_type": "code",
   "execution_count": 41,
   "id": "affected-token",
   "metadata": {},
   "outputs": [
    {
     "name": "stdout",
     "output_type": "stream",
     "text": [
      "Found 4242 validated image filenames belonging to 101 classes.\n"
     ]
    }
   ],
   "source": [
    "val_images = train_generator.flow_from_dataframe(\n",
    "    dataframe=traindata,\n",
    "    x_col='Files',\n",
    "    y_col='label',\n",
    "    target=(224,224),\n",
    "    color_mode='rgb',\n",
    "    class_mode='categorical',\n",
    "    batch_size=32,\n",
    "    seed=42,\n",
    "    shuffle=True,\n",
    "    subset ='validation'\n",
    ")"
   ]
  },
  {
   "cell_type": "code",
   "execution_count": null,
   "id": "comparable-blocking",
   "metadata": {},
   "outputs": [],
   "source": [
    "test_images = test_generator.flow_from_dataframe(\n",
    "    dataframe=testdata,\n",
    "    x_col='Files',\n",
    "    y_col='label',\n",
    "    target=(224,224),\n",
    "    color_mode='rgb',\n",
    "    class_mode='categorical',\n",
    "    batch_size=32,\n",
    "    shuffle=False\n",
    ")"
   ]
  }
 ],
 "metadata": {
  "kernelspec": {
   "display_name": "Python 3",
   "language": "python",
   "name": "python3"
  },
  "language_info": {
   "codemirror_mode": {
    "name": "ipython",
    "version": 3
   },
   "file_extension": ".py",
   "mimetype": "text/x-python",
   "name": "python",
   "nbconvert_exporter": "python",
   "pygments_lexer": "ipython3",
   "version": "3.8.6"
  }
 },
 "nbformat": 4,
 "nbformat_minor": 5
}
