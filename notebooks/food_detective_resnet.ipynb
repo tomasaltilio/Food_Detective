{
  "nbformat": 4,
  "nbformat_minor": 0,
  "metadata": {
    "colab": {
      "name": "food_detective_resnet.ipynb",
      "provenance": [],
      "collapsed_sections": [
        "GdaBhE0PgcRE"
      ]
    },
    "kernelspec": {
      "name": "python3",
      "display_name": "Python 3"
    },
    "accelerator": "GPU"
  },
  "cells": [
    {
      "cell_type": "code",
      "metadata": {
        "id": "qEQlI8RYO9KR"
      },
      "source": [
        "import numpy as np \n",
        "import pandas as pd \n",
        "import h5py\n",
        "import matplotlib.pyplot as plt\n",
        "import sys\n",
        "\n",
        "from sklearn.model_selection import train_test_split\n",
        "\n",
        "from tensorflow.keras.optimizers import Adam\n",
        "from tensorflow.keras import layers\n",
        "from tensorflow.keras import models\n",
        "from tensorflow.keras import Sequential\n",
        "\n",
        "from tensorflow.keras.applications import ResNet50\n",
        "from tensorflow.keras.applications.resnet import preprocess_input"
      ],
      "execution_count": 1,
      "outputs": []
    },
    {
      "cell_type": "code",
      "metadata": {
        "id": "SzQ71tS7gnyt",
        "colab": {
          "base_uri": "https://localhost:8080/"
        },
        "outputId": "692c3d26-0c96-4044-a9a7-1a4a72eda521"
      },
      "source": [
        "from google.colab import drive\n",
        "drive.mount(\"/content/gdrive\")"
      ],
      "execution_count": 2,
      "outputs": [
        {
          "output_type": "stream",
          "text": [
            "Mounted at /content/gdrive\n"
          ],
          "name": "stdout"
        }
      ]
    },
    {
      "cell_type": "markdown",
      "metadata": {
        "id": "GdaBhE0PgcRE"
      },
      "source": [
        "## Cargando data del Google Drive"
      ]
    },
    {
      "cell_type": "code",
      "metadata": {
        "id": "PF7Py5Q6gaHg"
      },
      "source": [
        "data_path = '/content/gdrive/MyDrive/Food Detective/food_c101_n10099_r64x64x3.h5'"
      ],
      "execution_count": 3,
      "outputs": []
    },
    {
      "cell_type": "code",
      "metadata": {
        "id": "l-zJ4lLXO-Y8"
      },
      "source": [
        "data_set = h5py.File(data_path, 'r')"
      ],
      "execution_count": 4,
      "outputs": []
    },
    {
      "cell_type": "code",
      "metadata": {
        "id": "N_SG4jJbRcP6",
        "colab": {
          "base_uri": "https://localhost:8080/"
        },
        "outputId": "f6511c37-c9ea-48e2-8af7-e8fa3b326373"
      },
      "source": [
        "data_set"
      ],
      "execution_count": 5,
      "outputs": [
        {
          "output_type": "execute_result",
          "data": {
            "text/plain": [
              "<HDF5 file \"food_c101_n10099_r64x64x3.h5\" (mode r)>"
            ]
          },
          "metadata": {
            "tags": []
          },
          "execution_count": 5
        }
      ]
    },
    {
      "cell_type": "markdown",
      "metadata": {
        "id": "D4xtbehCglWk"
      },
      "source": [
        "## Split de datos"
      ]
    },
    {
      "cell_type": "code",
      "metadata": {
        "id": "Br-LeAPlgzwf"
      },
      "source": [
        "X_train, X_val, y_train, y_val = train_test_split(data_set['images'][:], data_set['category'][:], test_size=0.3, random_state=42)"
      ],
      "execution_count": 6,
      "outputs": []
    },
    {
      "cell_type": "code",
      "metadata": {
        "id": "ZuAw2I5TRznK"
      },
      "source": [
        "def set_nontrainable_layers(model):\n",
        "  model.trainable = False    \n",
        "  return model"
      ],
      "execution_count": 7,
      "outputs": []
    },
    {
      "cell_type": "markdown",
      "metadata": {
        "id": "Ntb0ywr7plG5"
      },
      "source": [
        "## Armado de modelo ResNET50"
      ]
    },
    {
      "cell_type": "code",
      "metadata": {
        "colab": {
          "base_uri": "https://localhost:8080/"
        },
        "id": "DCfSO9spxpLf",
        "outputId": "660d442d-fadc-47db-9639-039495cdd7fe"
      },
      "source": [
        "X_train[0].shape"
      ],
      "execution_count": 8,
      "outputs": [
        {
          "output_type": "execute_result",
          "data": {
            "text/plain": [
              "(64, 64, 3)"
            ]
          },
          "metadata": {
            "tags": []
          },
          "execution_count": 8
        }
      ]
    },
    {
      "cell_type": "code",
      "metadata": {
        "id": "mcq52oAIh3_8",
        "colab": {
          "base_uri": "https://localhost:8080/"
        },
        "outputId": "41d57d6c-8295-4c25-d7ad-c0f03162d0ae"
      },
      "source": [
        "def build_model():\n",
        "\n",
        "  \n",
        "  resnet = ResNet50(weights='imagenet', include_top=False, input_shape=X_train[0].shape)\n",
        "  resnet = set_nontrainable_layers(resnet)\n",
        "  base_model = resnet\n",
        "  prediction_layer = layers.Dense(101, activation='softmax')\n",
        "\n",
        "  model = Sequential([base_model,\n",
        "                      layers.GlobalAveragePooling2D(),\n",
        "                      layers.Dropout(0.2),\n",
        "                      layers.Dense(256, activation='relu'),\n",
        "                      layers.BatchNormalization(),\n",
        "                      layers.Dropout(0.1),\n",
        "                      layers.Dense(128, activation='relu'),\n",
        "                      layers.BatchNormalization(),\n",
        "                      layers.Dropout(0.1),\n",
        "                      prediction_layer])\n",
        "  return model\n",
        "\n",
        "model = build_model()\n",
        "\n",
        "def compile_model(model):\n",
        "  model.compile(optimizer = Adam(learning_rate=0.001), \n",
        "                  metrics = 'accuracy', \n",
        "                  loss='categorical_crossentropy')\n",
        "  return model\n"
      ],
      "execution_count": 9,
      "outputs": [
        {
          "output_type": "stream",
          "text": [
            "Downloading data from https://storage.googleapis.com/tensorflow/keras-applications/resnet/resnet50_weights_tf_dim_ordering_tf_kernels_notop.h5\n",
            "94773248/94765736 [==============================] - 1s 0us/step\n"
          ],
          "name": "stdout"
        }
      ]
    },
    {
      "cell_type": "markdown",
      "metadata": {
        "id": "n5PWCLHVeE8S"
      },
      "source": [
        "## Preprocesado de datos"
      ]
    },
    {
      "cell_type": "code",
      "metadata": {
        "id": "GQxRTA959sKw"
      },
      "source": [
        "X_train = preprocess_input(X_train)\n",
        "X_val = preprocess_input(X_val)"
      ],
      "execution_count": 10,
      "outputs": []
    },
    {
      "cell_type": "code",
      "metadata": {
        "id": "EalquozJiY5d"
      },
      "source": [
        "from tensorflow.keras.preprocessing.image import ImageDataGenerator\n",
        "\n",
        "datagen = ImageDataGenerator(\n",
        "    featurewise_center=False,\n",
        "    featurewise_std_normalization=False,\n",
        "    rotation_range=10,\n",
        "    width_shift_range=0.2,\n",
        "    height_shift_range=0.2,\n",
        "    horizontal_flip=True,\n",
        "    brightness_range=(0, 1.5),\n",
        "    zoom_range=(0.8, 1.2)) \n",
        "\n",
        "datagen.fit(X_train)"
      ],
      "execution_count": 11,
      "outputs": []
    },
    {
      "cell_type": "code",
      "metadata": {
        "id": "NBow2S3Ih5p4"
      },
      "source": [
        "y_train = y_train.astype(int)\n",
        "y_val = y_val.astype(int)"
      ],
      "execution_count": 12,
      "outputs": []
    },
    {
      "cell_type": "markdown",
      "metadata": {
        "id": "yPBaPJgXq3UH"
      },
      "source": [
        "## Entrenando el modelo"
      ]
    },
    {
      "cell_type": "code",
      "metadata": {
        "colab": {
          "base_uri": "https://localhost:8080/"
        },
        "id": "Odem71Qhh-bW",
        "outputId": "745e356b-253b-49b2-89fb-953c20824ee6"
      },
      "source": [
        "from tensorflow.keras.callbacks import EarlyStopping\n",
        "es = EarlyStopping(patience = 5, restore_best_weights=True)\n",
        "\n",
        "train_flow = datagen.flow(X_train, y_train, batch_size=32)\n",
        "# val_flow = datagen.flow(X_val, y_val, batch_size=32)\n",
        "\n",
        "model = build_model()\n",
        "model = compile_model(model)\n",
        "\n",
        "history = model.fit(train_flow, \n",
        "          epochs=300, \n",
        "          validation_data=(X_val, y_val),\n",
        "          callbacks=[es],\n",
        "          verbose=1, \n",
        "          batch_size=32)"
      ],
      "execution_count": 14,
      "outputs": [
        {
          "output_type": "stream",
          "text": [
            "Epoch 1/300\n",
            "221/221 [==============================] - 18s 67ms/step - loss: 4.8581 - accuracy: 0.0272 - val_loss: 4.4161 - val_accuracy: 0.1069\n",
            "Epoch 2/300\n",
            "221/221 [==============================] - 14s 62ms/step - loss: 4.1328 - accuracy: 0.0989 - val_loss: 3.8460 - val_accuracy: 0.1627\n",
            "Epoch 3/300\n",
            "221/221 [==============================] - 14s 62ms/step - loss: 3.8515 - accuracy: 0.1292 - val_loss: 3.7500 - val_accuracy: 0.1733\n",
            "Epoch 4/300\n",
            "221/221 [==============================] - 14s 62ms/step - loss: 3.7508 - accuracy: 0.1475 - val_loss: 3.5723 - val_accuracy: 0.2059\n",
            "Epoch 5/300\n",
            "221/221 [==============================] - 14s 62ms/step - loss: 3.6171 - accuracy: 0.1714 - val_loss: 3.5937 - val_accuracy: 0.2050\n",
            "Epoch 6/300\n",
            "221/221 [==============================] - 14s 61ms/step - loss: 3.5829 - accuracy: 0.1825 - val_loss: 3.5301 - val_accuracy: 0.2106\n",
            "Epoch 7/300\n",
            "221/221 [==============================] - 13s 61ms/step - loss: 3.5020 - accuracy: 0.1917 - val_loss: 3.4866 - val_accuracy: 0.2142\n",
            "Epoch 8/300\n",
            "221/221 [==============================] - 14s 62ms/step - loss: 3.4594 - accuracy: 0.2045 - val_loss: 3.4899 - val_accuracy: 0.2208\n",
            "Epoch 9/300\n",
            "221/221 [==============================] - 14s 62ms/step - loss: 3.3955 - accuracy: 0.2032 - val_loss: 3.4390 - val_accuracy: 0.2231\n",
            "Epoch 10/300\n",
            "221/221 [==============================] - 14s 62ms/step - loss: 3.4061 - accuracy: 0.2113 - val_loss: 3.5113 - val_accuracy: 0.2129\n",
            "Epoch 11/300\n",
            "221/221 [==============================] - 14s 62ms/step - loss: 3.3966 - accuracy: 0.2036 - val_loss: 3.4740 - val_accuracy: 0.2188\n",
            "Epoch 12/300\n",
            "221/221 [==============================] - 14s 62ms/step - loss: 3.3524 - accuracy: 0.2118 - val_loss: 3.4410 - val_accuracy: 0.2234\n",
            "Epoch 13/300\n",
            "221/221 [==============================] - 14s 62ms/step - loss: 3.3060 - accuracy: 0.2222 - val_loss: 3.3833 - val_accuracy: 0.2307\n",
            "Epoch 14/300\n",
            "221/221 [==============================] - 14s 61ms/step - loss: 3.3066 - accuracy: 0.2283 - val_loss: 3.4518 - val_accuracy: 0.2317\n",
            "Epoch 15/300\n",
            "221/221 [==============================] - 14s 62ms/step - loss: 3.2980 - accuracy: 0.2224 - val_loss: 3.4350 - val_accuracy: 0.2244\n",
            "Epoch 16/300\n",
            "221/221 [==============================] - 13s 61ms/step - loss: 3.2452 - accuracy: 0.2337 - val_loss: 3.4440 - val_accuracy: 0.2287\n",
            "Epoch 17/300\n",
            "221/221 [==============================] - 14s 62ms/step - loss: 3.2065 - accuracy: 0.2392 - val_loss: 3.3984 - val_accuracy: 0.2406\n",
            "Epoch 18/300\n",
            "221/221 [==============================] - 14s 62ms/step - loss: 3.2441 - accuracy: 0.2319 - val_loss: 3.3973 - val_accuracy: 0.2320\n"
          ],
          "name": "stdout"
        }
      ]
    },
    {
      "cell_type": "code",
      "metadata": {
        "id": "U2uvml2B0qrj"
      },
      "source": [
        "def plot_loss_accuracy(history):\r\n",
        "    plt.plot(history.history['loss'])\r\n",
        "    plt.plot(history.history['val_loss'])\r\n",
        "    plt.title('Model loss')\r\n",
        "    plt.ylabel('Loss')\r\n",
        "    plt.xlabel('Epoch')\r\n",
        "    plt.legend(['Train', 'Validation'], loc='best')\r\n",
        "    plt.show()\r\n",
        "    \r\n",
        "    plt.plot(history.history['accuracy'])\r\n",
        "    plt.plot(history.history['val_accuracy'])\r\n",
        "    plt.title('Model Accuracy')\r\n",
        "    plt.ylabel('Accuracy')\r\n",
        "    plt.xlabel('Epoch')\r\n",
        "    plt.legend(['Train', 'Validation'], loc='best')\r\n",
        "    plt.show()"
      ],
      "execution_count": 15,
      "outputs": []
    },
    {
      "cell_type": "code",
      "metadata": {
        "id": "Loun0jRk04It",
        "colab": {
          "base_uri": "https://localhost:8080/",
          "height": 573
        },
        "outputId": "089dc466-62e2-4961-adeb-5aeebf3db77d"
      },
      "source": [
        "plot_loss_accuracy(history)"
      ],
      "execution_count": 16,
      "outputs": [
        {
          "output_type": "display_data",
          "data": {
            "image/png": "[encoded data removed]",
            "text/plain": [
              "<Figure size 432x288 with 1 Axes>"
            ]
          },
          "metadata": {
            "tags": [],
            "needs_background": "light"
          }
        },
        {
          "output_type": "display_data",
          "data": {
            "image/png": "[encoded data removed]",
            "text/plain": [
              "<Figure size 432x288 with 1 Axes>"
            ]
          },
          "metadata": {
            "tags": [],
            "needs_background": "light"
          }
        }
      ]
    },
    {
      "cell_type": "markdown",
      "metadata": {
        "id": "Lzjfu0L-Fe6N"
      },
      "source": [
        "## Testeando el modelo"
      ]
    },
    {
      "cell_type": "code",
      "metadata": {
        "id": "uIi5YAWir47B"
      },
      "source": [
        "test_path = '/content/gdrive/MyDrive/Food Detective/food_test_c101_n1000_r64x64x3.h5'"
      ],
      "execution_count": 17,
      "outputs": []
    },
    {
      "cell_type": "code",
      "metadata": {
        "id": "ULuSA3kTr4-T"
      },
      "source": [
        "test_set = h5py.File(data_path, 'r')"
      ],
      "execution_count": 18,
      "outputs": []
    },
    {
      "cell_type": "code",
      "metadata": {
        "id": "SEhYGmCSr5Ba"
      },
      "source": [
        "X_test = test_set['images'][:]\r\n",
        "y_test = test_set['category'][:]"
      ],
      "execution_count": 19,
      "outputs": []
    },
    {
      "cell_type": "markdown",
      "metadata": {
        "id": "4w5Y2Kt9FlvJ"
      },
      "source": [
        "### Preprocesando test"
      ]
    },
    {
      "cell_type": "code",
      "metadata": {
        "id": "zlEg1yA1Fpfi"
      },
      "source": [
        "X_test = preprocess_input(X_test)\r\n",
        "y_test = y_test.astype(int)"
      ],
      "execution_count": 20,
      "outputs": []
    },
    {
      "cell_type": "code",
      "metadata": {
        "id": "kYm0srkYMGnE"
      },
      "source": [
        "# test_flow = datagen.flow(X_test, y_test, batch_size=32)"
      ],
      "execution_count": 21,
      "outputs": []
    },
    {
      "cell_type": "markdown",
      "metadata": {
        "id": "IadjeCNBWi5f"
      },
      "source": [
        "## Evaluando sobre el test set"
      ]
    },
    {
      "cell_type": "code",
      "metadata": {
        "id": "pxX7FXtHiAOH",
        "colab": {
          "base_uri": "https://localhost:8080/"
        },
        "outputId": "d07c90c0-e18d-4c15-8218-bb9570ea10a5"
      },
      "source": [
        "model.evaluate(X_test, y_test)"
      ],
      "execution_count": 22,
      "outputs": [
        {
          "output_type": "stream",
          "text": [
            "316/316 [==============================] - 6s 20ms/step - loss: 2.9565 - accuracy: 0.2930\n"
          ],
          "name": "stdout"
        },
        {
          "output_type": "execute_result",
          "data": {
            "text/plain": [
              "[2.9565250873565674, 0.2929992973804474]"
            ]
          },
          "metadata": {
            "tags": []
          },
          "execution_count": 22
        }
      ]
    },
    {
      "cell_type": "code",
      "metadata": {
        "id": "W-gOq92ar4G_"
      },
      "source": [
        ""
      ],
      "execution_count": null,
      "outputs": []
    },
    {
      "cell_type": "markdown",
      "metadata": {
        "id": "9BFTKbEKHiZ2"
      },
      "source": [
        "## Nueva prueba con otra paciencia y mas epochs\r\n",
        "\r\n",
        "\r\n",
        "\r\n",
        "\r\n"
      ]
    },
    {
      "cell_type": "code",
      "metadata": {
        "id": "WDziaMUxByfD",
        "colab": {
          "base_uri": "https://localhost:8080/"
        },
        "outputId": "6258473a-1df7-4612-8e9c-b7847c737bc3"
      },
      "source": [
        "es = EarlyStopping(patience = 10, restore_best_weights=True)\r\n",
        "\r\n",
        "model = build_model()\r\n",
        "model.compile(optimizer = Adam(learning_rate=0.0001), \r\n",
        "                  metrics = 'accuracy', \r\n",
        "                  loss='categorical_crossentropy')\r\n",
        "\r\n",
        "history = model.fit(train_flow, \r\n",
        "          epochs=500, \r\n",
        "          validation_data=(X_val, y_val), \r\n",
        "          verbose=1, \r\n",
        "          callbacks=[es],\r\n",
        "          batch_size=32)"
      ],
      "execution_count": 29,
      "outputs": [
        {
          "output_type": "stream",
          "text": [
            "Epoch 1/500\n",
            "221/221 [==============================] - 17s 66ms/step - loss: 5.1715 - accuracy: 0.0149 - val_loss: 5.0051 - val_accuracy: 0.0281\n",
            "Epoch 2/500\n",
            "221/221 [==============================] - 13s 61ms/step - loss: 4.8802 - accuracy: 0.0240 - val_loss: 4.7799 - val_accuracy: 0.0535\n",
            "Epoch 3/500\n",
            "221/221 [==============================] - 13s 61ms/step - loss: 4.7039 - accuracy: 0.0415 - val_loss: 4.5424 - val_accuracy: 0.0739\n",
            "Epoch 4/500\n",
            "221/221 [==============================] - 13s 61ms/step - loss: 4.5203 - accuracy: 0.0514 - val_loss: 4.4005 - val_accuracy: 0.0901\n",
            "Epoch 5/500\n",
            "221/221 [==============================] - 13s 60ms/step - loss: 4.4039 - accuracy: 0.0667 - val_loss: 4.2471 - val_accuracy: 0.1096\n",
            "Epoch 6/500\n",
            "221/221 [==============================] - 13s 60ms/step - loss: 4.3381 - accuracy: 0.0768 - val_loss: 4.1334 - val_accuracy: 0.1277\n",
            "Epoch 7/500\n",
            "221/221 [==============================] - 13s 60ms/step - loss: 4.2368 - accuracy: 0.0895 - val_loss: 4.0382 - val_accuracy: 0.1389\n",
            "Epoch 8/500\n",
            "221/221 [==============================] - 13s 60ms/step - loss: 4.1696 - accuracy: 0.1012 - val_loss: 3.9572 - val_accuracy: 0.1475\n",
            "Epoch 9/500\n",
            "221/221 [==============================] - 13s 61ms/step - loss: 4.0741 - accuracy: 0.1068 - val_loss: 3.9099 - val_accuracy: 0.1548\n",
            "Epoch 10/500\n",
            "221/221 [==============================] - 13s 61ms/step - loss: 4.0345 - accuracy: 0.1154 - val_loss: 3.8426 - val_accuracy: 0.1578\n",
            "Epoch 11/500\n",
            "221/221 [==============================] - 13s 61ms/step - loss: 3.9730 - accuracy: 0.1247 - val_loss: 3.7967 - val_accuracy: 0.1597\n",
            "Epoch 12/500\n",
            "221/221 [==============================] - 13s 59ms/step - loss: 3.9455 - accuracy: 0.1242 - val_loss: 3.7464 - val_accuracy: 0.1710\n",
            "Epoch 13/500\n",
            "221/221 [==============================] - 13s 60ms/step - loss: 3.9110 - accuracy: 0.1379 - val_loss: 3.7288 - val_accuracy: 0.1736\n",
            "Epoch 14/500\n",
            "221/221 [==============================] - 13s 60ms/step - loss: 3.8359 - accuracy: 0.1407 - val_loss: 3.6856 - val_accuracy: 0.1789\n",
            "Epoch 15/500\n",
            "221/221 [==============================] - 13s 60ms/step - loss: 3.7879 - accuracy: 0.1522 - val_loss: 3.6659 - val_accuracy: 0.1845\n",
            "Epoch 16/500\n",
            "221/221 [==============================] - 13s 59ms/step - loss: 3.7508 - accuracy: 0.1588 - val_loss: 3.6314 - val_accuracy: 0.1835\n",
            "Epoch 17/500\n",
            "221/221 [==============================] - 13s 61ms/step - loss: 3.7307 - accuracy: 0.1630 - val_loss: 3.6074 - val_accuracy: 0.1914\n",
            "Epoch 18/500\n",
            "221/221 [==============================] - 13s 60ms/step - loss: 3.7019 - accuracy: 0.1611 - val_loss: 3.6054 - val_accuracy: 0.1960\n",
            "Epoch 19/500\n",
            "221/221 [==============================] - 13s 60ms/step - loss: 3.6650 - accuracy: 0.1754 - val_loss: 3.5930 - val_accuracy: 0.1970\n",
            "Epoch 20/500\n",
            "221/221 [==============================] - 13s 60ms/step - loss: 3.6537 - accuracy: 0.1750 - val_loss: 3.5706 - val_accuracy: 0.2033\n",
            "Epoch 21/500\n",
            "221/221 [==============================] - 13s 60ms/step - loss: 3.6147 - accuracy: 0.1764 - val_loss: 3.5582 - val_accuracy: 0.2020\n",
            "Epoch 22/500\n",
            "221/221 [==============================] - 13s 61ms/step - loss: 3.5761 - accuracy: 0.1825 - val_loss: 3.5422 - val_accuracy: 0.2040\n",
            "Epoch 23/500\n",
            "221/221 [==============================] - 14s 61ms/step - loss: 3.5551 - accuracy: 0.1843 - val_loss: 3.5371 - val_accuracy: 0.2076\n",
            "Epoch 24/500\n",
            "221/221 [==============================] - 13s 60ms/step - loss: 3.5605 - accuracy: 0.1873 - val_loss: 3.5158 - val_accuracy: 0.2099\n",
            "Epoch 25/500\n",
            "221/221 [==============================] - 13s 61ms/step - loss: 3.5094 - accuracy: 0.1949 - val_loss: 3.5071 - val_accuracy: 0.2102\n",
            "Epoch 26/500\n",
            "221/221 [==============================] - 14s 61ms/step - loss: 3.5284 - accuracy: 0.1957 - val_loss: 3.4825 - val_accuracy: 0.2106\n",
            "Epoch 27/500\n",
            "221/221 [==============================] - 13s 61ms/step - loss: 3.5209 - accuracy: 0.1937 - val_loss: 3.4633 - val_accuracy: 0.2132\n",
            "Epoch 28/500\n",
            "221/221 [==============================] - 13s 60ms/step - loss: 3.4845 - accuracy: 0.2048 - val_loss: 3.4556 - val_accuracy: 0.2155\n",
            "Epoch 29/500\n",
            "221/221 [==============================] - 13s 61ms/step - loss: 3.4302 - accuracy: 0.2167 - val_loss: 3.4570 - val_accuracy: 0.2185\n",
            "Epoch 30/500\n",
            "221/221 [==============================] - 13s 60ms/step - loss: 3.4486 - accuracy: 0.2028 - val_loss: 3.4449 - val_accuracy: 0.2168\n",
            "Epoch 31/500\n",
            "221/221 [==============================] - 13s 60ms/step - loss: 3.4393 - accuracy: 0.2122 - val_loss: 3.4308 - val_accuracy: 0.2162\n",
            "Epoch 32/500\n",
            "221/221 [==============================] - 13s 61ms/step - loss: 3.4170 - accuracy: 0.2061 - val_loss: 3.4113 - val_accuracy: 0.2244\n",
            "Epoch 33/500\n",
            "221/221 [==============================] - 13s 61ms/step - loss: 3.3865 - accuracy: 0.2142 - val_loss: 3.4271 - val_accuracy: 0.2231\n",
            "Epoch 34/500\n",
            "221/221 [==============================] - 13s 61ms/step - loss: 3.4007 - accuracy: 0.2101 - val_loss: 3.4250 - val_accuracy: 0.2274\n",
            "Epoch 35/500\n",
            "221/221 [==============================] - 14s 61ms/step - loss: 3.3703 - accuracy: 0.2189 - val_loss: 3.4105 - val_accuracy: 0.2300\n",
            "Epoch 36/500\n",
            "221/221 [==============================] - 13s 60ms/step - loss: 3.3568 - accuracy: 0.2192 - val_loss: 3.4335 - val_accuracy: 0.2248\n",
            "Epoch 37/500\n",
            "221/221 [==============================] - 13s 60ms/step - loss: 3.3547 - accuracy: 0.2192 - val_loss: 3.4025 - val_accuracy: 0.2281\n",
            "Epoch 38/500\n",
            "221/221 [==============================] - 13s 60ms/step - loss: 3.3608 - accuracy: 0.2155 - val_loss: 3.3937 - val_accuracy: 0.2327\n",
            "Epoch 39/500\n",
            "221/221 [==============================] - 14s 61ms/step - loss: 3.2981 - accuracy: 0.2353 - val_loss: 3.4191 - val_accuracy: 0.2251\n",
            "Epoch 40/500\n",
            "221/221 [==============================] - 13s 61ms/step - loss: 3.2913 - accuracy: 0.2351 - val_loss: 3.4130 - val_accuracy: 0.2221\n",
            "Epoch 41/500\n",
            "221/221 [==============================] - 14s 62ms/step - loss: 3.2959 - accuracy: 0.2357 - val_loss: 3.4116 - val_accuracy: 0.2224\n",
            "Epoch 42/500\n",
            "221/221 [==============================] - 13s 60ms/step - loss: 3.3099 - accuracy: 0.2239 - val_loss: 3.3968 - val_accuracy: 0.2297\n",
            "Epoch 43/500\n",
            "221/221 [==============================] - 13s 60ms/step - loss: 3.2712 - accuracy: 0.2232 - val_loss: 3.4025 - val_accuracy: 0.2347\n",
            "Epoch 44/500\n",
            "221/221 [==============================] - 13s 61ms/step - loss: 3.2513 - accuracy: 0.2375 - val_loss: 3.4272 - val_accuracy: 0.2307\n",
            "Epoch 45/500\n",
            "221/221 [==============================] - 14s 61ms/step - loss: 3.2444 - accuracy: 0.2443 - val_loss: 3.4252 - val_accuracy: 0.2274\n",
            "Epoch 46/500\n",
            "221/221 [==============================] - 13s 61ms/step - loss: 3.2784 - accuracy: 0.2266 - val_loss: 3.3717 - val_accuracy: 0.2340\n",
            "Epoch 47/500\n",
            "221/221 [==============================] - 14s 61ms/step - loss: 3.1961 - accuracy: 0.2450 - val_loss: 3.3852 - val_accuracy: 0.2277\n",
            "Epoch 48/500\n",
            "221/221 [==============================] - 13s 60ms/step - loss: 3.2393 - accuracy: 0.2383 - val_loss: 3.3989 - val_accuracy: 0.2287\n",
            "Epoch 49/500\n",
            "221/221 [==============================] - 13s 60ms/step - loss: 3.2100 - accuracy: 0.2423 - val_loss: 3.3712 - val_accuracy: 0.2340\n",
            "Epoch 50/500\n",
            "221/221 [==============================] - 14s 61ms/step - loss: 3.2202 - accuracy: 0.2442 - val_loss: 3.3573 - val_accuracy: 0.2343\n",
            "Epoch 51/500\n",
            "221/221 [==============================] - 13s 61ms/step - loss: 3.1916 - accuracy: 0.2493 - val_loss: 3.3741 - val_accuracy: 0.2347\n",
            "Epoch 52/500\n",
            "221/221 [==============================] - 13s 61ms/step - loss: 3.2063 - accuracy: 0.2397 - val_loss: 3.3695 - val_accuracy: 0.2343\n",
            "Epoch 53/500\n",
            "221/221 [==============================] - 14s 62ms/step - loss: 3.1939 - accuracy: 0.2446 - val_loss: 3.3661 - val_accuracy: 0.2366\n",
            "Epoch 54/500\n",
            "221/221 [==============================] - 13s 60ms/step - loss: 3.1961 - accuracy: 0.2531 - val_loss: 3.3657 - val_accuracy: 0.2340\n",
            "Epoch 55/500\n",
            "221/221 [==============================] - 13s 61ms/step - loss: 3.1500 - accuracy: 0.2537 - val_loss: 3.3395 - val_accuracy: 0.2393\n",
            "Epoch 56/500\n",
            "221/221 [==============================] - 13s 61ms/step - loss: 3.1455 - accuracy: 0.2593 - val_loss: 3.3388 - val_accuracy: 0.2396\n",
            "Epoch 57/500\n",
            "221/221 [==============================] - 14s 61ms/step - loss: 3.1592 - accuracy: 0.2489 - val_loss: 3.3472 - val_accuracy: 0.2399\n",
            "Epoch 58/500\n",
            "221/221 [==============================] - 14s 62ms/step - loss: 3.1344 - accuracy: 0.2586 - val_loss: 3.3741 - val_accuracy: 0.2419\n",
            "Epoch 59/500\n",
            "221/221 [==============================] - 14s 61ms/step - loss: 3.1423 - accuracy: 0.2554 - val_loss: 3.3719 - val_accuracy: 0.2363\n",
            "Epoch 60/500\n",
            "221/221 [==============================] - 13s 61ms/step - loss: 3.1567 - accuracy: 0.2529 - val_loss: 3.3580 - val_accuracy: 0.2426\n",
            "Epoch 61/500\n",
            "221/221 [==============================] - 14s 62ms/step - loss: 3.1560 - accuracy: 0.2536 - val_loss: 3.3452 - val_accuracy: 0.2452\n",
            "Epoch 62/500\n",
            "221/221 [==============================] - 13s 61ms/step - loss: 3.1446 - accuracy: 0.2510 - val_loss: 3.3418 - val_accuracy: 0.2455\n",
            "Epoch 63/500\n",
            "221/221 [==============================] - 14s 64ms/step - loss: 3.1322 - accuracy: 0.2517 - val_loss: 3.3579 - val_accuracy: 0.2416\n",
            "Epoch 64/500\n",
            "221/221 [==============================] - 14s 64ms/step - loss: 3.0990 - accuracy: 0.2601 - val_loss: 3.3520 - val_accuracy: 0.2475\n",
            "Epoch 65/500\n",
            "221/221 [==============================] - 14s 63ms/step - loss: 3.0949 - accuracy: 0.2620 - val_loss: 3.3585 - val_accuracy: 0.2472\n",
            "Epoch 66/500\n",
            "221/221 [==============================] - 14s 63ms/step - loss: 3.1295 - accuracy: 0.2509 - val_loss: 3.3326 - val_accuracy: 0.2498\n",
            "Epoch 67/500\n",
            "221/221 [==============================] - 14s 62ms/step - loss: 3.1365 - accuracy: 0.2606 - val_loss: 3.3534 - val_accuracy: 0.2482\n",
            "Epoch 68/500\n",
            "221/221 [==============================] - 14s 62ms/step - loss: 3.0872 - accuracy: 0.2638 - val_loss: 3.3866 - val_accuracy: 0.2426\n",
            "Epoch 69/500\n",
            "221/221 [==============================] - 14s 62ms/step - loss: 3.0894 - accuracy: 0.2747 - val_loss: 3.3306 - val_accuracy: 0.2492\n",
            "Epoch 70/500\n",
            "221/221 [==============================] - 14s 62ms/step - loss: 3.0586 - accuracy: 0.2696 - val_loss: 3.3451 - val_accuracy: 0.2518\n",
            "Epoch 71/500\n",
            "221/221 [==============================] - 14s 62ms/step - loss: 3.0745 - accuracy: 0.2599 - val_loss: 3.3565 - val_accuracy: 0.2455\n",
            "Epoch 72/500\n",
            "221/221 [==============================] - 14s 63ms/step - loss: 3.0931 - accuracy: 0.2661 - val_loss: 3.3594 - val_accuracy: 0.2446\n",
            "Epoch 73/500\n",
            "221/221 [==============================] - 14s 62ms/step - loss: 3.0890 - accuracy: 0.2556 - val_loss: 3.3528 - val_accuracy: 0.2485\n",
            "Epoch 74/500\n",
            "221/221 [==============================] - 14s 63ms/step - loss: 3.0320 - accuracy: 0.2698 - val_loss: 3.3665 - val_accuracy: 0.2472\n",
            "Epoch 75/500\n",
            "221/221 [==============================] - 14s 63ms/step - loss: 3.0630 - accuracy: 0.2678 - val_loss: 3.3406 - val_accuracy: 0.2479\n",
            "Epoch 76/500\n",
            "221/221 [==============================] - 14s 64ms/step - loss: 3.0320 - accuracy: 0.2742 - val_loss: 3.3483 - val_accuracy: 0.2508\n",
            "Epoch 77/500\n",
            "221/221 [==============================] - 14s 62ms/step - loss: 2.9990 - accuracy: 0.2791 - val_loss: 3.3398 - val_accuracy: 0.2469\n",
            "Epoch 78/500\n",
            "221/221 [==============================] - 14s 62ms/step - loss: 3.0432 - accuracy: 0.2710 - val_loss: 3.3387 - val_accuracy: 0.2475\n",
            "Epoch 79/500\n",
            "221/221 [==============================] - 14s 63ms/step - loss: 3.0044 - accuracy: 0.2816 - val_loss: 3.3088 - val_accuracy: 0.2502\n",
            "Epoch 80/500\n",
            "221/221 [==============================] - 14s 62ms/step - loss: 3.0467 - accuracy: 0.2702 - val_loss: 3.3173 - val_accuracy: 0.2502\n",
            "Epoch 81/500\n",
            "221/221 [==============================] - 14s 63ms/step - loss: 3.0204 - accuracy: 0.2639 - val_loss: 3.3248 - val_accuracy: 0.2518\n",
            "Epoch 82/500\n",
            "221/221 [==============================] - 14s 63ms/step - loss: 3.0354 - accuracy: 0.2647 - val_loss: 3.3213 - val_accuracy: 0.2538\n",
            "Epoch 83/500\n",
            "221/221 [==============================] - 14s 62ms/step - loss: 3.0132 - accuracy: 0.2742 - val_loss: 3.3295 - val_accuracy: 0.2512\n",
            "Epoch 84/500\n",
            "221/221 [==============================] - 14s 63ms/step - loss: 3.0320 - accuracy: 0.2680 - val_loss: 3.3303 - val_accuracy: 0.2512\n",
            "Epoch 85/500\n",
            "221/221 [==============================] - 14s 62ms/step - loss: 3.0100 - accuracy: 0.2800 - val_loss: 3.3518 - val_accuracy: 0.2479\n",
            "Epoch 86/500\n",
            "221/221 [==============================] - 14s 62ms/step - loss: 2.9934 - accuracy: 0.2854 - val_loss: 3.3627 - val_accuracy: 0.2479\n",
            "Epoch 87/500\n",
            "221/221 [==============================] - 14s 61ms/step - loss: 2.9903 - accuracy: 0.2823 - val_loss: 3.3600 - val_accuracy: 0.2551\n",
            "Epoch 88/500\n",
            "221/221 [==============================] - 14s 62ms/step - loss: 2.9956 - accuracy: 0.2829 - val_loss: 3.3508 - val_accuracy: 0.2535\n",
            "Epoch 89/500\n",
            "221/221 [==============================] - 14s 61ms/step - loss: 2.9628 - accuracy: 0.2860 - val_loss: 3.3533 - val_accuracy: 0.2548\n"
          ],
          "name": "stdout"
        }
      ]
    },
    {
      "cell_type": "code",
      "metadata": {
        "id": "G-OwRm_kcEXw",
        "colab": {
          "base_uri": "https://localhost:8080/",
          "height": 573
        },
        "outputId": "c6d94a94-cae4-4270-8462-10b2c0e134cb"
      },
      "source": [
        "plot_loss_accuracy(history)"
      ],
      "execution_count": 30,
      "outputs": [
        {
          "output_type": "display_data",
          "data": {
            "image/png": "[encoded data removed]",
            "text/plain": [
              "<Figure size 432x288 with 1 Axes>"
            ]
          },
          "metadata": {
            "tags": [],
            "needs_background": "light"
          }
        },
        {
          "output_type": "display_data",
          "data": {
            "image/png": "[encoded data removed]",
            "text/plain": [
              "<Figure size 432x288 with 1 Axes>"
            ]
          },
          "metadata": {
            "tags": [],
            "needs_background": "light"
          }
        }
      ]
    },
    {
      "cell_type": "markdown",
      "metadata": {
        "id": "VBQ_jQgllR-1"
      },
      "source": [
        "## Resultado"
      ]
    },
    {
      "cell_type": "code",
      "metadata": {
        "colab": {
          "base_uri": "https://localhost:8080/"
        },
        "id": "b5Q0eRZDQ_cm",
        "outputId": "9eec87cb-80a7-41b3-8837-03ac52927143"
      },
      "source": [
        "model.evaluate(X_test, y_test)"
      ],
      "execution_count": 33,
      "outputs": [
        {
          "output_type": "stream",
          "text": [
            "316/316 [==============================] - 6s 18ms/step - loss: 2.7038 - accuracy: 0.3452\n"
          ],
          "name": "stdout"
        },
        {
          "output_type": "execute_result",
          "data": {
            "text/plain": [
              "[2.703813076019287, 0.3451826870441437]"
            ]
          },
          "metadata": {
            "tags": []
          },
          "execution_count": 33
        }
      ]
    }
  ]
}