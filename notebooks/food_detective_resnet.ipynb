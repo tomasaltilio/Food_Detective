{
 "cells": [
  {
   "cell_type": "code",
   "execution_count": 1,
   "metadata": {
    "id": "qEQlI8RYO9KR"
   },
   "outputs": [],
   "source": [
    "import numpy as np \n",
    "import pandas as pd \n",
    "import h5py\n",
    "import matplotlib.pyplot as plt\n",
    "import sys\n",
    "\n",
    "from sklearn.model_selection import train_test_split\n",
    "\n",
    "from tensorflow.keras.optimizers import Adam\n",
    "from tensorflow.keras import models, Sequential, layers\n",
    "\n",
    "from tensorflow.keras.applications import ResNet50\n",
    "from tensorflow.keras.applications.resnet import preprocess_input"
   ]
  },
  {
   "cell_type": "code",
   "execution_count": null,
   "metadata": {
    "colab": {
     "base_uri": "https://localhost:8080/"
    },
    "id": "SzQ71tS7gnyt",
    "outputId": "ef6a66e9-5ca5-4318-fc26-7256345ba8da"
   },
   "outputs": [
    {
     "name": "stdout",
     "output_type": "stream",
     "text": [
      "Mounted at /content/gdrive\n"
     ]
    }
   ],
   "source": [
    "from google.colab import drive\n",
    "drive.mount(\"/content/gdrive\")"
   ]
  },
  {
   "cell_type": "markdown",
   "metadata": {
    "id": "GdaBhE0PgcRE"
   },
   "source": [
    "## Cargando data del Google Drive"
   ]
  },
  {
   "cell_type": "code",
   "execution_count": null,
   "metadata": {
    "id": "PF7Py5Q6gaHg"
   },
   "outputs": [],
   "source": [
    "data_path = '/content/gdrive/MyDrive/Food Detective/food_c101_n10099_r64x64x3.h5'"
   ]
  },
  {
   "cell_type": "code",
   "execution_count": null,
   "metadata": {
    "id": "l-zJ4lLXO-Y8"
   },
   "outputs": [],
   "source": [
    "data_set = h5py.File(data_path, 'r')"
   ]
  },
  {
   "cell_type": "code",
   "execution_count": null,
   "metadata": {
    "colab": {
     "base_uri": "https://localhost:8080/"
    },
    "id": "N_SG4jJbRcP6",
    "outputId": "81cab502-c19a-481f-c0fe-2b691bc61a9a"
   },
   "outputs": [
    {
     "data": {
      "text/plain": [
       "<HDF5 file \"food_c101_n10099_r64x64x3.h5\" (mode r)>"
      ]
     },
     "execution_count": 5,
     "metadata": {
      "tags": []
     },
     "output_type": "execute_result"
    }
   ],
   "source": [
    "data_set"
   ]
  },
  {
   "cell_type": "markdown",
   "metadata": {
    "id": "D4xtbehCglWk"
   },
   "source": [
    "## Split de datos"
   ]
  },
  {
   "cell_type": "code",
   "execution_count": null,
   "metadata": {
    "id": "Br-LeAPlgzwf"
   },
   "outputs": [],
   "source": [
    "X_train, X_val, y_train, y_val = train_test_split(data_set['images'][:], data_set['category'][:], test_size=0.3, random_state=42)"
   ]
  },
  {
   "cell_type": "code",
   "execution_count": null,
   "metadata": {
    "id": "ZuAw2I5TRznK"
   },
   "outputs": [],
   "source": [
    "def set_nontrainable_layers(model):\n",
    "  model.trainable = False    \n",
    "  return model"
   ]
  },
  {
   "cell_type": "markdown",
   "metadata": {
    "id": "Ntb0ywr7plG5"
   },
   "source": [
    "## Armado de modelo ResNET50"
   ]
  },
  {
   "cell_type": "code",
   "execution_count": null,
   "metadata": {
    "colab": {
     "base_uri": "https://localhost:8080/"
    },
    "id": "DCfSO9spxpLf",
    "outputId": "60267b19-cab5-4c9a-9aec-be692a09ca18"
   },
   "outputs": [
    {
     "data": {
      "text/plain": [
       "(64, 64, 3)"
      ]
     },
     "execution_count": 8,
     "metadata": {
      "tags": []
     },
     "output_type": "execute_result"
    }
   ],
   "source": [
    "X_train[0].shape"
   ]
  },
  {
   "cell_type": "code",
   "execution_count": null,
   "metadata": {
    "colab": {
     "base_uri": "https://localhost:8080/"
    },
    "id": "mcq52oAIh3_8",
    "outputId": "33795353-047e-4e22-9f0a-689444b10454"
   },
   "outputs": [
    {
     "name": "stdout",
     "output_type": "stream",
     "text": [
      "Downloading data from https://storage.googleapis.com/tensorflow/keras-applications/resnet/resnet50_weights_tf_dim_ordering_tf_kernels_notop.h5\n",
      "94773248/94765736 [==============================] - 1s 0us/step\n"
     ]
    }
   ],
   "source": [
    "def build_model():\n",
    "\n",
    "  \n",
    "  resnet = ResNet50(weights='imagenet', include_top=False, input_shape=X_train[0].shape)\n",
    "  resnet = set_nontrainable_layers(resnet)\n",
    "  base_model = resnet\n",
    "  prediction_layer = layers.Dense(101, activation='softmax')\n",
    "\n",
    "  model = Sequential([base_model,\n",
    "                      layers.GlobalAveragePooling2D(),\n",
    "                      layers.Dropout(0.2),\n",
    "                      layers.Dense(256, activation='relu'),\n",
    "                      layers.BatchNormalization(),\n",
    "                      layers.Dropout(0.1),\n",
    "                      layers.Dense(128, activation='relu'),\n",
    "                      layers.BatchNormalization(),\n",
    "                      layers.Dropout(0.1),\n",
    "                      prediction_layer])\n",
    "  return model\n",
    "\n",
    "model = build_model()\n",
    "\n",
    "def compile_model(model):\n",
    "  model.compile(optimizer = Adam(learning_rate=0.001), \n",
    "                  metrics = 'accuracy', \n",
    "                  loss='categorical_crossentropy')\n",
    "  return model\n"
   ]
  },
  {
   "cell_type": "markdown",
   "metadata": {
    "id": "n5PWCLHVeE8S"
   },
   "source": [
    "## Preprocesado de datos"
   ]
  },
  {
   "cell_type": "code",
   "execution_count": null,
   "metadata": {
    "id": "GQxRTA959sKw"
   },
   "outputs": [],
   "source": [
    "X_train = preprocess_input(X_train)\n",
    "X_val = preprocess_input(X_val)"
   ]
  },
  {
   "cell_type": "code",
   "execution_count": null,
   "metadata": {
    "id": "EalquozJiY5d"
   },
   "outputs": [],
   "source": [
    "from tensorflow.keras.preprocessing.image import ImageDataGenerator\n",
    "\n",
    "datagen = ImageDataGenerator(\n",
    "    featurewise_center=False,\n",
    "    featurewise_std_normalization=False,\n",
    "    rotation_range=10,\n",
    "    width_shift_range=0.2,\n",
    "    height_shift_range=0.2,\n",
    "    horizontal_flip=True,\n",
    "    brightness_range=(0, 1.5),\n",
    "    zoom_range=(0.8, 1.2)) \n",
    "\n",
    "datagen.fit(X_train)"
   ]
  },
  {
   "cell_type": "code",
   "execution_count": null,
   "metadata": {
    "id": "NBow2S3Ih5p4"
   },
   "outputs": [],
   "source": [
    "y_train = y_train.astype(int)\n",
    "y_val = y_val.astype(int)"
   ]
  },
  {
   "cell_type": "markdown",
   "metadata": {
    "id": "yPBaPJgXq3UH"
   },
   "source": [
    "## Entrenando el modelo"
   ]
  },
  {
   "cell_type": "code",
   "execution_count": null,
   "metadata": {
    "colab": {
     "base_uri": "https://localhost:8080/"
    },
    "id": "Odem71Qhh-bW",
    "outputId": "3a9ebc65-d640-4dac-e64e-c51f73b4eb2d"
   },
   "outputs": [
    {
     "name": "stdout",
     "output_type": "stream",
     "text": [
      "Epoch 1/300\n",
      "221/221 [==============================] - 51s 72ms/step - loss: 4.8293 - accuracy: 0.0330 - val_loss: 4.3200 - val_accuracy: 0.1234\n",
      "Epoch 2/300\n",
      "221/221 [==============================] - 14s 65ms/step - loss: 4.1318 - accuracy: 0.0986 - val_loss: 3.9497 - val_accuracy: 0.1518\n",
      "Epoch 3/300\n",
      "221/221 [==============================] - 14s 65ms/step - loss: 3.8700 - accuracy: 0.1377 - val_loss: 3.7144 - val_accuracy: 0.1799\n",
      "Epoch 4/300\n",
      "221/221 [==============================] - 14s 63ms/step - loss: 3.7028 - accuracy: 0.1603 - val_loss: 3.6727 - val_accuracy: 0.1861\n",
      "Epoch 5/300\n",
      "221/221 [==============================] - 14s 63ms/step - loss: 3.6478 - accuracy: 0.1648 - val_loss: 3.5793 - val_accuracy: 0.1980\n",
      "Epoch 6/300\n",
      "221/221 [==============================] - 14s 63ms/step - loss: 3.5516 - accuracy: 0.1715 - val_loss: 3.5416 - val_accuracy: 0.2073\n",
      "Epoch 7/300\n",
      "221/221 [==============================] - 14s 63ms/step - loss: 3.5237 - accuracy: 0.1860 - val_loss: 3.5769 - val_accuracy: 0.2132\n",
      "Epoch 8/300\n",
      "221/221 [==============================] - 14s 64ms/step - loss: 3.4705 - accuracy: 0.1902 - val_loss: 3.4788 - val_accuracy: 0.2182\n",
      "Epoch 9/300\n",
      "221/221 [==============================] - 14s 63ms/step - loss: 3.4408 - accuracy: 0.1999 - val_loss: 3.4778 - val_accuracy: 0.2211\n",
      "Epoch 10/300\n",
      "221/221 [==============================] - 14s 63ms/step - loss: 3.3406 - accuracy: 0.2191 - val_loss: 3.3924 - val_accuracy: 0.2340\n",
      "Epoch 11/300\n",
      "221/221 [==============================] - 14s 63ms/step - loss: 3.3856 - accuracy: 0.1958 - val_loss: 3.4451 - val_accuracy: 0.2320\n",
      "Epoch 12/300\n",
      "221/221 [==============================] - 14s 64ms/step - loss: 3.3624 - accuracy: 0.2062 - val_loss: 3.4329 - val_accuracy: 0.2274\n",
      "Epoch 13/300\n",
      "221/221 [==============================] - 14s 64ms/step - loss: 3.3353 - accuracy: 0.2197 - val_loss: 3.3707 - val_accuracy: 0.2403\n",
      "Epoch 14/300\n",
      "221/221 [==============================] - 14s 64ms/step - loss: 3.3098 - accuracy: 0.2165 - val_loss: 3.4526 - val_accuracy: 0.2310\n",
      "Epoch 15/300\n",
      "221/221 [==============================] - 14s 64ms/step - loss: 3.2743 - accuracy: 0.2187 - val_loss: 3.3820 - val_accuracy: 0.2333\n",
      "Epoch 16/300\n",
      "221/221 [==============================] - 14s 63ms/step - loss: 3.2328 - accuracy: 0.2327 - val_loss: 3.4270 - val_accuracy: 0.2353\n",
      "Epoch 17/300\n",
      "221/221 [==============================] - 14s 64ms/step - loss: 3.2150 - accuracy: 0.2309 - val_loss: 3.4185 - val_accuracy: 0.2399\n",
      "Epoch 18/300\n",
      "221/221 [==============================] - 14s 63ms/step - loss: 3.2314 - accuracy: 0.2389 - val_loss: 3.3917 - val_accuracy: 0.2446\n"
     ]
    }
   ],
   "source": [
    "from tensorflow.keras.callbacks import EarlyStopping\n",
    "es = EarlyStopping(patience = 5, restore_best_weights=True)\n",
    "\n",
    "train_flow = datagen.flow(X_train, y_train, batch_size=32)\n",
    "# val_flow = datagen.flow(X_val, y_val, batch_size=32)\n",
    "\n",
    "model = build_model()\n",
    "model = compile_model(model)\n",
    "\n",
    "history = model.fit(train_flow, \n",
    "          epochs=300, \n",
    "          validation_data=(X_val, y_val),\n",
    "          callbacks=[es],\n",
    "          verbose=1, \n",
    "          batch_size=32)"
   ]
  },
  {
   "cell_type": "code",
   "execution_count": null,
   "metadata": {
    "id": "U2uvml2B0qrj"
   },
   "outputs": [],
   "source": [
    "def plot_loss_accuracy(history):\n",
    "    plt.plot(history.history['loss'])\n",
    "    plt.plot(history.history['val_loss'])\n",
    "    plt.title('Model loss')\n",
    "    plt.ylabel('Loss')\n",
    "    plt.xlabel('Epoch')\n",
    "    plt.legend(['Train', 'Validation'], loc='best')\n",
    "    plt.show()\n",
    "    \n",
    "    plt.plot(history.history['accuracy'])\n",
    "    plt.plot(history.history['val_accuracy'])\n",
    "    plt.title('Model Accuracy')\n",
    "    plt.ylabel('Accuracy')\n",
    "    plt.xlabel('Epoch')\n",
    "    plt.legend(['Train', 'Validation'], loc='best')\n",
    "    plt.show()"
   ]
  },
  {
   "cell_type": "code",
   "execution_count": null,
   "metadata": {
    "colab": {
     "base_uri": "https://localhost:8080/",
     "height": 573
    },
    "id": "Loun0jRk04It",
    "outputId": "c371e2de-ab1c-4cfb-9d57-19c2929477fb"
   },
   "outputs": [
    {
     "data": {
      "image/png": "[encoded data removed]",
      "text/plain": [
       "<Figure size 432x288 with 1 Axes>"
      ]
     },
     "metadata": {
      "needs_background": "light",
      "tags": []
     },
     "output_type": "display_data"
    },
    {
     "data": {
      "image/png": "[encoded data removed]",
      "text/plain": [
       "<Figure size 432x288 with 1 Axes>"
      ]
     },
     "metadata": {
      "needs_background": "light",
      "tags": []
     },
     "output_type": "display_data"
    }
   ],
   "source": [
    "plot_loss_accuracy(history)"
   ]
  },
  {
   "cell_type": "markdown",
   "metadata": {
    "id": "Lzjfu0L-Fe6N"
   },
   "source": [
    "## Testeando el modelo"
   ]
  },
  {
   "cell_type": "code",
   "execution_count": null,
   "metadata": {
    "id": "uIi5YAWir47B"
   },
   "outputs": [],
   "source": [
    "test_path = '/content/gdrive/MyDrive/Food Detective/food_test_c101_n1000_r64x64x3.h5'"
   ]
  },
  {
   "cell_type": "code",
   "execution_count": null,
   "metadata": {
    "id": "ULuSA3kTr4-T"
   },
   "outputs": [],
   "source": [
    "test_set = h5py.File(data_path, 'r')"
   ]
  },
  {
   "cell_type": "code",
   "execution_count": null,
   "metadata": {
    "id": "SEhYGmCSr5Ba"
   },
   "outputs": [],
   "source": [
    "X_test = test_set['images'][:]\n",
    "y_test = test_set['category'][:]"
   ]
  },
  {
   "cell_type": "markdown",
   "metadata": {
    "id": "4w5Y2Kt9FlvJ"
   },
   "source": [
    "### Preprocesando test"
   ]
  },
  {
   "cell_type": "code",
   "execution_count": null,
   "metadata": {
    "id": "zlEg1yA1Fpfi"
   },
   "outputs": [],
   "source": [
    "X_test = preprocess_input(X_test)\n",
    "y_test = y_test.astype(int)"
   ]
  },
  {
   "cell_type": "code",
   "execution_count": null,
   "metadata": {
    "id": "kYm0srkYMGnE"
   },
   "outputs": [],
   "source": [
    "# test_flow = datagen.flow(X_test, y_test, batch_size=32)"
   ]
  },
  {
   "cell_type": "markdown",
   "metadata": {
    "id": "IadjeCNBWi5f"
   },
   "source": [
    "## Evaluando sobre el test set"
   ]
  },
  {
   "cell_type": "code",
   "execution_count": null,
   "metadata": {
    "colab": {
     "base_uri": "https://localhost:8080/"
    },
    "id": "pxX7FXtHiAOH",
    "outputId": "0f694a63-acea-4685-ed22-3ce5cebea56a"
   },
   "outputs": [
    {
     "name": "stdout",
     "output_type": "stream",
     "text": [
      "316/316 [==============================] - 7s 21ms/step - loss: 2.9346 - accuracy: 0.2940\n"
     ]
    },
    {
     "data": {
      "text/plain": [
       "[2.9345591068267822, 0.29398950934410095]"
      ]
     },
     "execution_count": 21,
     "metadata": {
      "tags": []
     },
     "output_type": "execute_result"
    }
   ],
   "source": [
    "model.evaluate(X_test, y_test)"
   ]
  },
  {
   "cell_type": "code",
   "execution_count": null,
   "metadata": {
    "id": "W-gOq92ar4G_"
   },
   "outputs": [],
   "source": []
  },
  {
   "cell_type": "markdown",
   "metadata": {
    "id": "9BFTKbEKHiZ2"
   },
   "source": [
    "## Nueva prueba con otra paciencia y mas epochs\n",
    "\n",
    "\n",
    "\n",
    "\n"
   ]
  },
  {
   "cell_type": "code",
   "execution_count": null,
   "metadata": {
    "colab": {
     "base_uri": "https://localhost:8080/"
    },
    "id": "WDziaMUxByfD",
    "outputId": "936657a1-60e0-46d8-e5ee-113cd32bb888"
   },
   "outputs": [
    {
     "name": "stdout",
     "output_type": "stream",
     "text": [
      "Epoch 1/500\n",
      "221/221 [==============================] - 18s 69ms/step - loss: 5.1418 - accuracy: 0.0120 - val_loss: 4.9645 - val_accuracy: 0.0274\n",
      "Epoch 2/500\n",
      "221/221 [==============================] - 14s 62ms/step - loss: 4.8668 - accuracy: 0.0189 - val_loss: 4.7066 - val_accuracy: 0.0614\n",
      "Epoch 3/500\n",
      "221/221 [==============================] - 14s 62ms/step - loss: 4.6923 - accuracy: 0.0359 - val_loss: 4.5274 - val_accuracy: 0.0756\n",
      "Epoch 4/500\n",
      "221/221 [==============================] - 14s 62ms/step - loss: 4.5176 - accuracy: 0.0547 - val_loss: 4.3659 - val_accuracy: 0.0904\n",
      "Epoch 5/500\n",
      "221/221 [==============================] - 14s 63ms/step - loss: 4.4099 - accuracy: 0.0727 - val_loss: 4.2720 - val_accuracy: 0.1043\n",
      "Epoch 6/500\n",
      "221/221 [==============================] - 14s 63ms/step - loss: 4.3218 - accuracy: 0.0821 - val_loss: 4.1635 - val_accuracy: 0.1139\n",
      "Epoch 7/500\n",
      "221/221 [==============================] - 14s 64ms/step - loss: 4.2049 - accuracy: 0.1013 - val_loss: 4.0444 - val_accuracy: 0.1251\n",
      "Epoch 8/500\n",
      "221/221 [==============================] - 14s 62ms/step - loss: 4.1184 - accuracy: 0.1051 - val_loss: 3.9729 - val_accuracy: 0.1337\n",
      "Epoch 9/500\n",
      "221/221 [==============================] - 14s 63ms/step - loss: 4.0679 - accuracy: 0.1156 - val_loss: 3.9116 - val_accuracy: 0.1426\n",
      "Epoch 10/500\n",
      "221/221 [==============================] - 14s 63ms/step - loss: 4.0216 - accuracy: 0.1189 - val_loss: 3.8499 - val_accuracy: 0.1538\n",
      "Epoch 11/500\n",
      "221/221 [==============================] - 14s 63ms/step - loss: 3.9882 - accuracy: 0.1232 - val_loss: 3.8236 - val_accuracy: 0.1554\n",
      "Epoch 12/500\n",
      "221/221 [==============================] - 14s 64ms/step - loss: 3.9125 - accuracy: 0.1351 - val_loss: 3.7913 - val_accuracy: 0.1653\n",
      "Epoch 13/500\n",
      "221/221 [==============================] - 14s 63ms/step - loss: 3.8557 - accuracy: 0.1415 - val_loss: 3.7184 - val_accuracy: 0.1785\n",
      "Epoch 14/500\n",
      "221/221 [==============================] - 14s 62ms/step - loss: 3.8221 - accuracy: 0.1406 - val_loss: 3.6941 - val_accuracy: 0.1795\n",
      "Epoch 15/500\n",
      "221/221 [==============================] - 14s 63ms/step - loss: 3.8129 - accuracy: 0.1489 - val_loss: 3.6842 - val_accuracy: 0.1835\n",
      "Epoch 16/500\n",
      "221/221 [==============================] - 14s 62ms/step - loss: 3.7236 - accuracy: 0.1656 - val_loss: 3.6440 - val_accuracy: 0.1865\n",
      "Epoch 17/500\n",
      "221/221 [==============================] - 14s 63ms/step - loss: 3.7476 - accuracy: 0.1639 - val_loss: 3.6021 - val_accuracy: 0.1937\n",
      "Epoch 18/500\n",
      "221/221 [==============================] - 14s 63ms/step - loss: 3.7182 - accuracy: 0.1559 - val_loss: 3.6073 - val_accuracy: 0.1974\n",
      "Epoch 19/500\n",
      "221/221 [==============================] - 14s 63ms/step - loss: 3.6861 - accuracy: 0.1631 - val_loss: 3.5742 - val_accuracy: 0.2020\n",
      "Epoch 20/500\n",
      "221/221 [==============================] - 14s 63ms/step - loss: 3.6151 - accuracy: 0.1717 - val_loss: 3.5748 - val_accuracy: 0.2007\n",
      "Epoch 21/500\n",
      "221/221 [==============================] - 14s 63ms/step - loss: 3.6295 - accuracy: 0.1704 - val_loss: 3.5510 - val_accuracy: 0.1970\n",
      "Epoch 22/500\n",
      "221/221 [==============================] - 14s 62ms/step - loss: 3.5865 - accuracy: 0.1848 - val_loss: 3.5468 - val_accuracy: 0.1993\n",
      "Epoch 23/500\n",
      "221/221 [==============================] - 14s 63ms/step - loss: 3.5568 - accuracy: 0.1940 - val_loss: 3.5386 - val_accuracy: 0.2003\n",
      "Epoch 24/500\n",
      "221/221 [==============================] - 14s 63ms/step - loss: 3.5740 - accuracy: 0.1803 - val_loss: 3.5178 - val_accuracy: 0.1993\n",
      "Epoch 25/500\n",
      "221/221 [==============================] - 14s 62ms/step - loss: 3.5336 - accuracy: 0.1897 - val_loss: 3.4985 - val_accuracy: 0.1993\n",
      "Epoch 26/500\n",
      "221/221 [==============================] - 14s 62ms/step - loss: 3.5247 - accuracy: 0.1859 - val_loss: 3.4849 - val_accuracy: 0.2083\n",
      "Epoch 27/500\n",
      "221/221 [==============================] - 14s 63ms/step - loss: 3.4858 - accuracy: 0.2054 - val_loss: 3.4799 - val_accuracy: 0.2079\n",
      "Epoch 28/500\n",
      "221/221 [==============================] - 14s 61ms/step - loss: 3.4925 - accuracy: 0.1999 - val_loss: 3.5139 - val_accuracy: 0.2026\n",
      "Epoch 29/500\n",
      "221/221 [==============================] - 14s 63ms/step - loss: 3.4490 - accuracy: 0.1973 - val_loss: 3.4854 - val_accuracy: 0.2089\n",
      "Epoch 30/500\n",
      "221/221 [==============================] - 14s 63ms/step - loss: 3.4075 - accuracy: 0.2100 - val_loss: 3.4709 - val_accuracy: 0.2089\n",
      "Epoch 31/500\n",
      "221/221 [==============================] - 14s 62ms/step - loss: 3.4657 - accuracy: 0.1928 - val_loss: 3.4898 - val_accuracy: 0.2102\n",
      "Epoch 32/500\n",
      "221/221 [==============================] - 14s 63ms/step - loss: 3.4225 - accuracy: 0.2075 - val_loss: 3.4654 - val_accuracy: 0.2145\n",
      "Epoch 33/500\n",
      "221/221 [==============================] - 14s 62ms/step - loss: 3.3928 - accuracy: 0.2136 - val_loss: 3.4512 - val_accuracy: 0.2175\n",
      "Epoch 34/500\n",
      "221/221 [==============================] - 14s 62ms/step - loss: 3.3740 - accuracy: 0.2122 - val_loss: 3.4587 - val_accuracy: 0.2195\n",
      "Epoch 35/500\n",
      "221/221 [==============================] - 14s 62ms/step - loss: 3.3973 - accuracy: 0.2151 - val_loss: 3.4413 - val_accuracy: 0.2254\n",
      "Epoch 36/500\n",
      "221/221 [==============================] - 14s 62ms/step - loss: 3.3540 - accuracy: 0.2197 - val_loss: 3.4232 - val_accuracy: 0.2228\n",
      "Epoch 37/500\n",
      "221/221 [==============================] - 14s 63ms/step - loss: 3.3325 - accuracy: 0.2248 - val_loss: 3.4208 - val_accuracy: 0.2221\n",
      "Epoch 38/500\n",
      "221/221 [==============================] - 14s 63ms/step - loss: 3.3511 - accuracy: 0.2254 - val_loss: 3.4256 - val_accuracy: 0.2201\n",
      "Epoch 39/500\n",
      "221/221 [==============================] - 14s 62ms/step - loss: 3.3500 - accuracy: 0.2157 - val_loss: 3.3972 - val_accuracy: 0.2211\n",
      "Epoch 40/500\n",
      "221/221 [==============================] - 14s 62ms/step - loss: 3.2944 - accuracy: 0.2314 - val_loss: 3.4081 - val_accuracy: 0.2215\n",
      "Epoch 41/500\n",
      "221/221 [==============================] - 14s 62ms/step - loss: 3.3399 - accuracy: 0.2267 - val_loss: 3.3959 - val_accuracy: 0.2211\n",
      "Epoch 42/500\n",
      "221/221 [==============================] - 14s 63ms/step - loss: 3.3040 - accuracy: 0.2265 - val_loss: 3.3943 - val_accuracy: 0.2234\n",
      "Epoch 43/500\n",
      "221/221 [==============================] - 14s 64ms/step - loss: 3.3363 - accuracy: 0.2254 - val_loss: 3.4076 - val_accuracy: 0.2267\n",
      "Epoch 44/500\n",
      "221/221 [==============================] - 14s 63ms/step - loss: 3.3039 - accuracy: 0.2278 - val_loss: 3.4095 - val_accuracy: 0.2241\n",
      "Epoch 45/500\n",
      "221/221 [==============================] - 14s 63ms/step - loss: 3.2628 - accuracy: 0.2351 - val_loss: 3.4100 - val_accuracy: 0.2251\n",
      "Epoch 46/500\n",
      "221/221 [==============================] - 14s 63ms/step - loss: 3.3057 - accuracy: 0.2316 - val_loss: 3.4013 - val_accuracy: 0.2297\n",
      "Epoch 47/500\n",
      "221/221 [==============================] - 14s 63ms/step - loss: 3.2463 - accuracy: 0.2417 - val_loss: 3.3982 - val_accuracy: 0.2251\n",
      "Epoch 48/500\n",
      "221/221 [==============================] - 14s 63ms/step - loss: 3.2420 - accuracy: 0.2366 - val_loss: 3.4046 - val_accuracy: 0.2317\n",
      "Epoch 49/500\n",
      "221/221 [==============================] - 14s 62ms/step - loss: 3.2345 - accuracy: 0.2433 - val_loss: 3.3939 - val_accuracy: 0.2297\n",
      "Epoch 50/500\n",
      "221/221 [==============================] - 14s 63ms/step - loss: 3.2310 - accuracy: 0.2384 - val_loss: 3.4289 - val_accuracy: 0.2251\n",
      "Epoch 51/500\n",
      "221/221 [==============================] - 14s 62ms/step - loss: 3.2203 - accuracy: 0.2439 - val_loss: 3.4160 - val_accuracy: 0.2287\n",
      "Epoch 52/500\n",
      "221/221 [==============================] - 14s 63ms/step - loss: 3.2132 - accuracy: 0.2527 - val_loss: 3.3719 - val_accuracy: 0.2307\n",
      "Epoch 53/500\n",
      "221/221 [==============================] - 14s 63ms/step - loss: 3.1647 - accuracy: 0.2554 - val_loss: 3.3698 - val_accuracy: 0.2376\n",
      "Epoch 54/500\n",
      "221/221 [==============================] - 14s 63ms/step - loss: 3.2038 - accuracy: 0.2487 - val_loss: 3.3474 - val_accuracy: 0.2449\n",
      "Epoch 55/500\n",
      "221/221 [==============================] - 14s 63ms/step - loss: 3.1841 - accuracy: 0.2584 - val_loss: 3.3498 - val_accuracy: 0.2340\n",
      "Epoch 56/500\n",
      "221/221 [==============================] - 14s 63ms/step - loss: 3.1406 - accuracy: 0.2598 - val_loss: 3.3777 - val_accuracy: 0.2323\n",
      "Epoch 57/500\n",
      "221/221 [==============================] - 14s 62ms/step - loss: 3.1616 - accuracy: 0.2573 - val_loss: 3.3504 - val_accuracy: 0.2347\n",
      "Epoch 58/500\n",
      "221/221 [==============================] - 14s 63ms/step - loss: 3.1696 - accuracy: 0.2459 - val_loss: 3.3685 - val_accuracy: 0.2366\n",
      "Epoch 59/500\n",
      "221/221 [==============================] - 14s 64ms/step - loss: 3.1519 - accuracy: 0.2575 - val_loss: 3.3730 - val_accuracy: 0.2389\n",
      "Epoch 60/500\n",
      "221/221 [==============================] - 14s 62ms/step - loss: 3.1605 - accuracy: 0.2562 - val_loss: 3.3663 - val_accuracy: 0.2363\n",
      "Epoch 61/500\n",
      "221/221 [==============================] - 14s 64ms/step - loss: 3.1897 - accuracy: 0.2421 - val_loss: 3.3516 - val_accuracy: 0.2327\n",
      "Epoch 62/500\n",
      "221/221 [==============================] - 14s 63ms/step - loss: 3.1128 - accuracy: 0.2590 - val_loss: 3.3830 - val_accuracy: 0.2343\n",
      "Epoch 63/500\n",
      "221/221 [==============================] - 14s 63ms/step - loss: 3.1190 - accuracy: 0.2601 - val_loss: 3.3944 - val_accuracy: 0.2350\n",
      "Epoch 64/500\n",
      "221/221 [==============================] - 14s 63ms/step - loss: 3.1515 - accuracy: 0.2568 - val_loss: 3.3951 - val_accuracy: 0.2399\n"
     ]
    }
   ],
   "source": [
    "es = EarlyStopping(patience = 10, restore_best_weights=True)\n",
    "\n",
    "model = build_model()\n",
    "model.compile(optimizer = Adam(learning_rate=0.0001), \n",
    "                  metrics = 'accuracy', \n",
    "                  loss='categorical_crossentropy')\n",
    "\n",
    "history = model.fit(train_flow, \n",
    "          epochs=500, \n",
    "          validation_data=(X_val, y_val), \n",
    "          verbose=1, \n",
    "          callbacks=[es],\n",
    "          batch_size=32)"
   ]
  },
  {
   "cell_type": "code",
   "execution_count": null,
   "metadata": {
    "colab": {
     "base_uri": "https://localhost:8080/",
     "height": 573
    },
    "id": "G-OwRm_kcEXw",
    "outputId": "ad7b41be-48e8-4d73-9c97-be1674de8b73"
   },
   "outputs": [
    {
     "data": {
      "image/png": "[encoded data removed]",
      "text/plain": [
       "<Figure size 432x288 with 1 Axes>"
      ]
     },
     "metadata": {
      "needs_background": "light",
      "tags": []
     },
     "output_type": "display_data"
    },
    {
     "data": {
      "image/png": "[encoded data removed]",
      "text/plain": [
       "<Figure size 432x288 with 1 Axes>"
      ]
     },
     "metadata": {
      "needs_background": "light",
      "tags": []
     },
     "output_type": "display_data"
    }
   ],
   "source": [
    "plot_loss_accuracy(history)"
   ]
  },
  {
   "cell_type": "markdown",
   "metadata": {
    "id": "VBQ_jQgllR-1"
   },
   "source": [
    "## Resultado"
   ]
  },
  {
   "cell_type": "code",
   "execution_count": null,
   "metadata": {
    "colab": {
     "base_uri": "https://localhost:8080/"
    },
    "id": "b5Q0eRZDQ_cm",
    "outputId": "cbb7790e-2d53-4d82-d15a-f377f68c9e1c"
   },
   "outputs": [
    {
     "name": "stdout",
     "output_type": "stream",
     "text": [
      "316/316 [==============================] - 6s 20ms/step - loss: 2.8424 - accuracy: 0.3207\n"
     ]
    },
    {
     "data": {
      "text/plain": [
       "[2.8423995971679688, 0.32072481513023376]"
      ]
     },
     "execution_count": 24,
     "metadata": {
      "tags": []
     },
     "output_type": "execute_result"
    }
   ],
   "source": [
    "model.evaluate(X_test, y_test)"
   ]
  },
  {
   "cell_type": "markdown",
   "metadata": {
    "id": "pAhoVj4wnO24"
   },
   "source": [
    "## Grabando el modelo"
   ]
  },
  {
   "cell_type": "code",
   "execution_count": null,
   "metadata": {
    "colab": {
     "base_uri": "https://localhost:8080/"
    },
    "id": "BQucROb3nQd0",
    "outputId": "728feb44-da64-4779-8e24-defc6224d37f"
   },
   "outputs": [
    {
     "name": "stdout",
     "output_type": "stream",
     "text": [
      "INFO:tensorflow:Assets written to: /content/gdrive/MyDrive/Food Detective/ResNET_acc32/assets\n"
     ]
    }
   ],
   "source": [
    "model.save('/content/gdrive/MyDrive/Food Detective/ResNET_acc32',\n",
    "           overwrite=True,\n",
    "           include_optimizer=True)"
   ]
  },
  {
   "cell_type": "code",
   "execution_count": null,
   "metadata": {
    "id": "3GtUHCf3nTlz"
   },
   "outputs": [],
   "source": [
    "# prueba = models.load_model('https://drive.google.com/drive/folders/1ngWuqaFNYKJrB-9C8mio36KZYOgFKDce')\n",
    "# prueba = models.load_model('/content/gdrive/MyDrive/Food Detective/ResNET_acc32')"
   ]
  },
  {
   "cell_type": "code",
   "execution_count": 9,
   "metadata": {},
   "outputs": [],
   "source": [
    "from google.cloud import storage\n",
    "client = storage.Client()\n",
    "bucket = client.bucket('wagon-bootcamp-306514')\n",
    "blob = bucket.blob('food-models-le-wagon')\n",
    "blob.make_public()\n"
   ]
  },
  {
   "cell_type": "code",
   "execution_count": null,
   "metadata": {
    "colab": {
     "base_uri": "https://localhost:8080/",
     "height": 243
    },
    "id": "XrmidwsBrNkN",
    "outputId": "db80d780-bb5c-488e-e813-3fbb292f4205"
   },
   "outputs": [
    {
     "ename": "NameError",
     "evalue": "ignored",
     "output_type": "error",
     "traceback": [
      "\u001b[0;31m---------------------------------------------------------------------------\u001b[0m",
      "\u001b[0;31mNameError\u001b[0m                                 Traceback (most recent call last)",
      "\u001b[0;32m<ipython-input-1-e4d4bc8fbeaf>\u001b[0m in \u001b[0;36m<module>\u001b[0;34m()\u001b[0m\n\u001b[1;32m      1\u001b[0m \u001b[0mnum\u001b[0m \u001b[0;34m=\u001b[0m \u001b[0;36m5\u001b[0m\u001b[0;34m\u001b[0m\u001b[0;34m\u001b[0m\u001b[0m\n\u001b[0;32m----> 2\u001b[0;31m \u001b[0msample\u001b[0m \u001b[0;34m=\u001b[0m \u001b[0mnp\u001b[0m\u001b[0;34m.\u001b[0m\u001b[0mexpand_dims\u001b[0m\u001b[0;34m(\u001b[0m\u001b[0mX_test\u001b[0m\u001b[0;34m[\u001b[0m\u001b[0mnum\u001b[0m\u001b[0;34m]\u001b[0m\u001b[0;34m,\u001b[0m \u001b[0maxis\u001b[0m \u001b[0;34m=\u001b[0m \u001b[0;36m0\u001b[0m\u001b[0;34m)\u001b[0m\u001b[0;34m\u001b[0m\u001b[0;34m\u001b[0m\u001b[0m\n\u001b[0m\u001b[1;32m      3\u001b[0m \u001b[0my_pred\u001b[0m \u001b[0;34m=\u001b[0m \u001b[0mprueba\u001b[0m\u001b[0;34m.\u001b[0m\u001b[0mpredict\u001b[0m\u001b[0;34m(\u001b[0m\u001b[0msample\u001b[0m\u001b[0;34m)\u001b[0m\u001b[0;34m\u001b[0m\u001b[0;34m\u001b[0m\u001b[0m\n\u001b[1;32m      4\u001b[0m \u001b[0mcategory_sample\u001b[0m \u001b[0;34m=\u001b[0m \u001b[0mnp\u001b[0m\u001b[0;34m.\u001b[0m\u001b[0margmax\u001b[0m\u001b[0;34m(\u001b[0m\u001b[0my_pred\u001b[0m\u001b[0;34m)\u001b[0m\u001b[0;34m\u001b[0m\u001b[0;34m\u001b[0m\u001b[0m\n\u001b[1;32m      5\u001b[0m \u001b[0mcategory_name_sample\u001b[0m \u001b[0;34m=\u001b[0m \u001b[0mdata_set\u001b[0m\u001b[0;34m[\u001b[0m\u001b[0;34m'category_names'\u001b[0m\u001b[0;34m]\u001b[0m\u001b[0;34m[\u001b[0m\u001b[0mcategory_sample\u001b[0m\u001b[0;34m]\u001b[0m\u001b[0;34m\u001b[0m\u001b[0;34m\u001b[0m\u001b[0m\n",
      "\u001b[0;31mNameError\u001b[0m: name 'np' is not defined"
     ]
    }
   ],
   "source": [
    "num = 5\n",
    "sample = np.expand_dims(X_test[num], axis = 0)\n",
    "y_pred = prueba.predict(sample)\n",
    "category_sample = np.argmax(y_pred)\n",
    "category_name_sample = data_set['category_names'][category_sample]\n",
    "category_name_sample"
   ]
  },
  {
   "cell_type": "code",
   "execution_count": null,
   "metadata": {
    "colab": {
     "base_uri": "https://localhost:8080/",
     "height": 207
    },
    "id": "eCU4NaANr-y9",
    "outputId": "bdf95465-9bac-4863-eb08-be396aba94a6"
   },
   "outputs": [
    {
     "ename": "NameError",
     "evalue": "ignored",
     "output_type": "error",
     "traceback": [
      "\u001b[0;31m---------------------------------------------------------------------------\u001b[0m",
      "\u001b[0;31mNameError\u001b[0m                                 Traceback (most recent call last)",
      "\u001b[0;32m<ipython-input-2-14c0166b34a9>\u001b[0m in \u001b[0;36m<module>\u001b[0;34m()\u001b[0m\n\u001b[0;32m----> 1\u001b[0;31m \u001b[0mreal_category_sample\u001b[0m \u001b[0;34m=\u001b[0m \u001b[0mnp\u001b[0m\u001b[0;34m.\u001b[0m\u001b[0margmax\u001b[0m\u001b[0;34m(\u001b[0m\u001b[0my_test\u001b[0m\u001b[0;34m[\u001b[0m\u001b[0mnum\u001b[0m\u001b[0;34m]\u001b[0m\u001b[0;34m)\u001b[0m\u001b[0;34m\u001b[0m\u001b[0;34m\u001b[0m\u001b[0m\n\u001b[0m\u001b[1;32m      2\u001b[0m \u001b[0mreal_category_name\u001b[0m \u001b[0;34m=\u001b[0m \u001b[0mdata_set\u001b[0m\u001b[0;34m[\u001b[0m\u001b[0;34m'category_names'\u001b[0m\u001b[0;34m]\u001b[0m\u001b[0;34m[\u001b[0m\u001b[0mreal_category_sample\u001b[0m\u001b[0;34m]\u001b[0m\u001b[0;34m\u001b[0m\u001b[0;34m\u001b[0m\u001b[0m\n\u001b[1;32m      3\u001b[0m \u001b[0mreal_category_name\u001b[0m\u001b[0;34m\u001b[0m\u001b[0;34m\u001b[0m\u001b[0m\n",
      "\u001b[0;31mNameError\u001b[0m: name 'np' is not defined"
     ]
    }
   ],
   "source": [
    "real_category_sample = np.argmax(y_test[num])\n",
    "real_category_name = data_set['category_names'][real_category_sample]\n",
    "real_category_name"
   ]
  },
  {
   "cell_type": "code",
   "execution_count": null,
   "metadata": {
    "id": "x3nTDeCvuyVG"
   },
   "outputs": [],
   "source": [
    "y_pred.max()"
   ]
  },
  {
   "cell_type": "code",
   "execution_count": null,
   "metadata": {
    "id": "CAQPEZHBwn2m"
   },
   "outputs": [],
   "source": []
  }
 ],
 "metadata": {
  "accelerator": "GPU",
  "colab": {
   "collapsed_sections": [
    "GdaBhE0PgcRE"
   ],
   "name": "food_detective_resnet.ipynb",
   "provenance": []
  },
  "kernelspec": {
   "display_name": "Python 3",
   "language": "python",
   "name": "python3"
  },
  "language_info": {
   "codemirror_mode": {
    "name": "ipython",
    "version": 3
   },
   "file_extension": ".py",
   "mimetype": "text/x-python",
   "name": "python",
   "nbconvert_exporter": "python",
   "pygments_lexer": "ipython3",
   "version": "3.8.6"
  },
  "toc": {
   "base_numbering": 1,
   "nav_menu": {},
   "number_sections": true,
   "sideBar": true,
   "skip_h1_title": false,
   "title_cell": "Table of Contents",
   "title_sidebar": "Contents",
   "toc_cell": false,
   "toc_position": {},
   "toc_section_display": true,
   "toc_window_display": false
  },
  "varInspector": {
   "cols": {
    "lenName": 16,
    "lenType": 16,
    "lenVar": 40
   },
   "kernels_config": {
    "python": {
     "delete_cmd_postfix": "",
     "delete_cmd_prefix": "del ",
     "library": "var_list.py",
     "varRefreshCmd": "print(var_dic_list())"
    },
    "r": {
     "delete_cmd_postfix": ") ",
     "delete_cmd_prefix": "rm(",
     "library": "var_list.r",
     "varRefreshCmd": "cat(var_dic_list()) "
    }
   },
   "types_to_exclude": [
    "module",
    "function",
    "builtin_function_or_method",
    "instance",
    "_Feature"
   ],
   "window_display": false
  }
 },
 "nbformat": 4,
 "nbformat_minor": 1
}
