{
  "nbformat": 4,
  "nbformat_minor": 0,
  "metadata": {
    "colab": {
      "name": "food_detective_vgg.ipynb",
      "provenance": []
    },
    "kernelspec": {
      "name": "python3",
      "display_name": "Python 3"
    },
    "accelerator": "GPU"
  },
  "cells": [
    {
      "cell_type": "code",
      "metadata": {
        "id": "qEQlI8RYO9KR"
      },
      "source": [
        "import numpy as np \n",
        "import pandas as pd \n",
        "import h5py\n",
        "import matplotlib.pyplot as plt\n",
        "import sys"
      ],
      "execution_count": null,
      "outputs": []
    },
    {
      "cell_type": "code",
      "metadata": {
        "id": "SzQ71tS7gnyt",
        "colab": {
          "base_uri": "https://localhost:8080/"
        },
        "outputId": "a7d24b40-f0b8-4249-ff58-3c54bc0b76d6"
      },
      "source": [
        "from google.colab import drive\n",
        "drive.mount(\"/content/gdrive\")"
      ],
      "execution_count": null,
      "outputs": [
        {
          "output_type": "stream",
          "text": [
            "Drive already mounted at /content/gdrive; to attempt to forcibly remount, call drive.mount(\"/content/gdrive\", force_remount=True).\n"
          ],
          "name": "stdout"
        }
      ]
    },
    {
      "cell_type": "code",
      "metadata": {
        "id": "PF7Py5Q6gaHg"
      },
      "source": [
        "data_path = '/content/gdrive/My Drive/Fooddetective/train_set_64_64_3.h5'"
      ],
      "execution_count": null,
      "outputs": []
    },
    {
      "cell_type": "markdown",
      "metadata": {
        "id": "hybthtoh9JuZ"
      },
      "source": [
        ""
      ]
    },
    {
      "cell_type": "code",
      "metadata": {
        "id": "l-zJ4lLXO-Y8"
      },
      "source": [
        "data_set = h5py.File(data_path, 'r')"
      ],
      "execution_count": null,
      "outputs": []
    },
    {
      "cell_type": "code",
      "metadata": {
        "id": "N_SG4jJbRcP6",
        "colab": {
          "base_uri": "https://localhost:8080/"
        },
        "outputId": "760562cc-ea63-40b0-80a3-9e4b73f1790d"
      },
      "source": [
        "data_set"
      ],
      "execution_count": null,
      "outputs": [
        {
          "output_type": "execute_result",
          "data": {
            "text/plain": [
              "<HDF5 file \"train_set_64_64_3.h5\" (mode r)>"
            ]
          },
          "metadata": {
            "tags": []
          },
          "execution_count": 22
        }
      ]
    },
    {
      "cell_type": "code",
      "metadata": {
        "id": "f6de_Wv6AlH0"
      },
      "source": [
        "X_train = data_set['images'][1:1000]\n",
        "X_val = data_set['images'][1000:1300]\n",
        "X_test = data_set['images'][1300:1600]"
      ],
      "execution_count": null,
      "outputs": []
    },
    {
      "cell_type": "code",
      "metadata": {
        "id": "RuujGqMcA1Tc"
      },
      "source": [
        "y_train = data_set['category'][1:1000]\n",
        "y_val = data_set['category'][1000:1300]\n",
        "y_test = data_set['category'][1300:1600]"
      ],
      "execution_count": null,
      "outputs": []
    },
    {
      "cell_type": "code",
      "metadata": {
        "id": "ZuAw2I5TRznK"
      },
      "source": [
        "def set_nontrainable_layers(model):\n",
        "  model.trainable = False    \n",
        "  return model"
      ],
      "execution_count": null,
      "outputs": []
    },
    {
      "cell_type": "code",
      "metadata": {
        "id": "mcq52oAIh3_8"
      },
      "source": [
        "import tensorflow as keras\n",
        "from tensorflow.keras.optimizers import Adam\n",
        "from tensorflow.keras import layers\n",
        "from tensorflow.keras import models\n",
        "from tensorflow.keras import Sequential\n",
        "from tensorflow.keras.applications.vgg16 import VGG16\n",
        "\n",
        "def build_model():\n",
        "\n",
        "  vgg_model = VGG16(include_top=False, weights='imagenet', input_shape=(64, 64, 3))\n",
        "  vgg_model = set_nontrainable_layers(vgg_model)\n",
        "  base_model = vgg_model\n",
        "  flattening_layer = layers.Flatten()\n",
        "  dense_layer = layers.Dense(64, activation='relu')\n",
        "  # drop_layer = layers.Dropout(0.2)\n",
        "  prediction_layer = layers.Dense(101, activation='softmax')\n",
        "\n",
        "  model = Sequential([base_model, flattening_layer, dense_layer, prediction_layer])\n",
        "  return model\n",
        "\n",
        "model = build_model()\n",
        "\n",
        "def compile_model(model):\n",
        "  model.compile(optimizer = Adam(learning_rate=0.001), \n",
        "                  metrics = 'accuracy', \n",
        "                  loss='categorical_crossentropy')\n",
        "  return model\n"
      ],
      "execution_count": null,
      "outputs": []
    },
    {
      "cell_type": "code",
      "metadata": {
        "id": "GQxRTA959sKw"
      },
      "source": [
        "from tensorflow.keras.applications.vgg16 import preprocess_input\n",
        "\n",
        "X_train = preprocess_input(X_train)\n",
        "X_val = preprocess_input(X_val)\n",
        "X_test = preprocess_input(X_test)"
      ],
      "execution_count": null,
      "outputs": []
    },
    {
      "cell_type": "code",
      "metadata": {
        "id": "EalquozJiY5d"
      },
      "source": [
        "from tensorflow.keras.preprocessing.image import ImageDataGenerator\n",
        "\n",
        "datagen = ImageDataGenerator(\n",
        "    featurewise_center=False,\n",
        "    featurewise_std_normalization=False,\n",
        "    rotation_range=10,\n",
        "    width_shift_range=0.2,\n",
        "    height_shift_range=0.2,\n",
        "    horizontal_flip=True,\n",
        "    brightness_range=(0, 1.5),\n",
        "    zoom_range=(0.8, 1.2)) \n",
        "\n",
        "datagen.fit(X_train)"
      ],
      "execution_count": null,
      "outputs": []
    },
    {
      "cell_type": "code",
      "metadata": {
        "id": "NBow2S3Ih5p4"
      },
      "source": [
        "y_train = y_train.astype(int)\n",
        "y_val = y_val.astype(int)\n",
        "y_test = y_test.astype(int)"
      ],
      "execution_count": null,
      "outputs": []
    },
    {
      "cell_type": "code",
      "metadata": {
        "colab": {
          "base_uri": "https://localhost:8080/"
        },
        "id": "Odem71Qhh-bW",
        "outputId": "5a8e640e-23d1-441b-a55a-1904eaae3ec4"
      },
      "source": [
        "from tensorflow.keras.callbacks import EarlyStopping\n",
        "es = EarlyStopping(patience = 5, restore_best_weights=True)\n",
        "\n",
        "train_flow = datagen.flow(X_train, y_train, batch_size=32)\n",
        "val_flow = datagen.flow(X_val, y_val, batch_size=32)\n",
        "\n",
        "model = build_model()\n",
        "model = compile_model(model)\n",
        "\n",
        "history = model.fit(train_flow, \n",
        "          epochs=300, \n",
        "          validation_data=(X_val, y_val), verbose=1, batch_size=32)"
      ],
      "execution_count": null,
      "outputs": [
        {
          "output_type": "stream",
          "text": [
            "Epoch 1/300\n",
            "32/32 [==============================] - 3s 64ms/step - loss: 13.0034 - accuracy: 0.0127 - val_loss: 4.7329 - val_accuracy: 0.0200\n",
            "Epoch 2/300\n",
            "32/32 [==============================] - 2s 52ms/step - loss: 4.7213 - accuracy: 0.0208 - val_loss: 4.6483 - val_accuracy: 0.0167\n",
            "Epoch 3/300\n",
            "32/32 [==============================] - 2s 55ms/step - loss: 4.6128 - accuracy: 0.0291 - val_loss: 4.6420 - val_accuracy: 0.0167\n",
            "Epoch 4/300\n",
            "32/32 [==============================] - 2s 53ms/step - loss: 4.6086 - accuracy: 0.0078 - val_loss: 4.6337 - val_accuracy: 0.0233\n",
            "Epoch 5/300\n",
            "32/32 [==============================] - 2s 52ms/step - loss: 4.6120 - accuracy: 0.0197 - val_loss: 4.6171 - val_accuracy: 0.0133\n",
            "Epoch 6/300\n",
            "32/32 [==============================] - 2s 53ms/step - loss: 4.6190 - accuracy: 0.0256 - val_loss: 4.6314 - val_accuracy: 0.0167\n",
            "Epoch 7/300\n",
            "32/32 [==============================] - 2s 52ms/step - loss: 4.5655 - accuracy: 0.0234 - val_loss: 4.6299 - val_accuracy: 0.0233\n",
            "Epoch 8/300\n",
            "32/32 [==============================] - 2s 51ms/step - loss: 4.5970 - accuracy: 0.0290 - val_loss: 4.6422 - val_accuracy: 0.0233\n",
            "Epoch 9/300\n",
            "32/32 [==============================] - 2s 54ms/step - loss: 4.5633 - accuracy: 0.0350 - val_loss: 4.6642 - val_accuracy: 0.0267\n",
            "Epoch 10/300\n",
            "32/32 [==============================] - 2s 57ms/step - loss: 4.5646 - accuracy: 0.0309 - val_loss: 4.6681 - val_accuracy: 0.0333\n",
            "Epoch 11/300\n",
            "32/32 [==============================] - 2s 54ms/step - loss: 4.5525 - accuracy: 0.0319 - val_loss: 4.6531 - val_accuracy: 0.0233\n",
            "Epoch 12/300\n",
            "32/32 [==============================] - 2s 55ms/step - loss: 4.4854 - accuracy: 0.0450 - val_loss: 4.7073 - val_accuracy: 0.0300\n",
            "Epoch 13/300\n",
            "32/32 [==============================] - 2s 57ms/step - loss: 4.4379 - accuracy: 0.0476 - val_loss: 4.7892 - val_accuracy: 0.0467\n",
            "Epoch 14/300\n",
            "32/32 [==============================] - 2s 54ms/step - loss: 4.4098 - accuracy: 0.0537 - val_loss: 5.0315 - val_accuracy: 0.0367\n",
            "Epoch 15/300\n",
            "32/32 [==============================] - 2s 53ms/step - loss: 4.3842 - accuracy: 0.0647 - val_loss: 4.8312 - val_accuracy: 0.0300\n",
            "Epoch 16/300\n",
            "32/32 [==============================] - 2s 55ms/step - loss: 4.4134 - accuracy: 0.0620 - val_loss: 5.0305 - val_accuracy: 0.0400\n",
            "Epoch 17/300\n",
            "32/32 [==============================] - 2s 54ms/step - loss: 4.4221 - accuracy: 0.0647 - val_loss: 4.8264 - val_accuracy: 0.0433\n",
            "Epoch 18/300\n",
            "32/32 [==============================] - 2s 55ms/step - loss: 4.3459 - accuracy: 0.0712 - val_loss: 4.9559 - val_accuracy: 0.0400\n",
            "Epoch 19/300\n",
            "32/32 [==============================] - 2s 58ms/step - loss: 4.3174 - accuracy: 0.0883 - val_loss: 4.7951 - val_accuracy: 0.0267\n",
            "Epoch 20/300\n",
            "32/32 [==============================] - 2s 53ms/step - loss: 4.3723 - accuracy: 0.0727 - val_loss: 4.9383 - val_accuracy: 0.0367\n",
            "Epoch 21/300\n",
            "32/32 [==============================] - 2s 53ms/step - loss: 4.3325 - accuracy: 0.0862 - val_loss: 5.0205 - val_accuracy: 0.0533\n",
            "Epoch 22/300\n",
            "32/32 [==============================] - 2s 53ms/step - loss: 4.2928 - accuracy: 0.0961 - val_loss: 4.8520 - val_accuracy: 0.0467\n",
            "Epoch 23/300\n",
            "32/32 [==============================] - 2s 53ms/step - loss: 4.1806 - accuracy: 0.1088 - val_loss: 5.0584 - val_accuracy: 0.0433\n",
            "Epoch 24/300\n",
            "32/32 [==============================] - 2s 56ms/step - loss: 4.3237 - accuracy: 0.0819 - val_loss: 5.0527 - val_accuracy: 0.0467\n",
            "Epoch 25/300\n",
            "32/32 [==============================] - 2s 55ms/step - loss: 4.2348 - accuracy: 0.0945 - val_loss: 4.8953 - val_accuracy: 0.0500\n",
            "Epoch 26/300\n",
            "32/32 [==============================] - 2s 54ms/step - loss: 4.1748 - accuracy: 0.0980 - val_loss: 4.9320 - val_accuracy: 0.0667\n",
            "Epoch 27/300\n",
            "32/32 [==============================] - 2s 56ms/step - loss: 4.2514 - accuracy: 0.0982 - val_loss: 4.8802 - val_accuracy: 0.0667\n"
          ],
          "name": "stdout"
        }
      ]
    },
    {
      "cell_type": "code",
      "metadata": {
        "id": "pxX7FXtHiAOH"
      },
      "source": [
        "model.evaluate(X_test, y_test)"
      ],
      "execution_count": null,
      "outputs": []
    },
    {
      "cell_type": "code",
      "metadata": {
        "id": "WDziaMUxByfD"
      },
      "source": [
        ""
      ],
      "execution_count": null,
      "outputs": []
    }
  ]
}