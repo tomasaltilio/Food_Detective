{
 "cells": [
  {
   "cell_type": "markdown",
   "metadata": {},
   "source": [
    "# Testing our API locally"
   ]
  },
  {
   "cell_type": "markdown",
   "metadata": {},
   "source": [
    "## Connect to the root endpoint"
   ]
  },
  {
   "cell_type": "code",
   "execution_count": 5,
   "metadata": {},
   "outputs": [
    {
     "data": {
      "text/plain": [
       "{'greeting': 'hello'}"
      ]
     },
     "execution_count": 5,
     "metadata": {},
     "output_type": "execute_result"
    }
   ],
   "source": [
    "import requests\n",
    "\n",
    "url = \"http://localhost:8000/\"\n",
    "\n",
    "result = requests.get(url).json()\n",
    "\n",
    "result"
   ]
  },
  {
   "cell_type": "markdown",
   "metadata": {},
   "source": [
    "## Connect to the predict endpoint"
   ]
  },
  {
   "cell_type": "code",
   "execution_count": 13,
   "metadata": {},
   "outputs": [
    {
     "data": {
      "text/plain": [
       "11.161022853690422"
      ]
     },
     "execution_count": 13,
     "metadata": {},
     "output_type": "execute_result"
    }
   ],
   "source": [
    "import requests\n",
    "\n",
    "url = \"http://localhost:8000/predict\"\n",
    "\n",
    "params = dict(pickup_datetime=\"2020-12-12 12:12:12 UTC\",\n",
    "              lon1=\"41.123456\",\n",
    "              lat1=\"41.123456\",\n",
    "              lon2=\"41.123456\",\n",
    "              lat2=\"41.123456\",\n",
    "              passcount=\"3\")\n",
    "\n",
    "result = requests.get(url, params=params).json()\n",
    "\n",
    "result[\"pred\"]"
   ]
  },
  {
   "cell_type": "markdown",
   "metadata": {},
   "source": [
    "## Test our API in our container running locally"
   ]
  },
  {
   "cell_type": "code",
   "execution_count": 14,
   "metadata": {},
   "outputs": [
    {
     "data": {
      "text/plain": [
       "11.161022853690422"
      ]
     },
     "execution_count": 14,
     "metadata": {},
     "output_type": "execute_result"
    }
   ],
   "source": [
    "import requests\n",
    "\n",
    "# see how nothing changes when contacting an API, whether it is within a container or not?\n",
    "url = \"http://localhost:8000/predict\"\n",
    "\n",
    "params = dict(pickup_datetime=\"2020-12-12 12:12:12 UTC\",\n",
    "              lon1=\"41.123456\",\n",
    "              lat1=\"41.123456\",\n",
    "              lon2=\"41.123456\",\n",
    "              lat2=\"41.123456\",\n",
    "              passcount=\"3\")\n",
    "\n",
    "result = requests.get(url, params=params).json()\n",
    "\n",
    "result[\"pred\"]"
   ]
  },
  {
   "cell_type": "markdown",
   "metadata": {},
   "source": [
    "# Testing our API in Cloud Run"
   ]
  },
  {
   "cell_type": "code",
   "execution_count": 17,
   "metadata": {},
   "outputs": [
    {
     "data": {
      "text/plain": [
       "11.161022853690422"
      ]
     },
     "execution_count": 17,
     "metadata": {},
     "output_type": "execute_result"
    }
   ],
   "source": [
    "import requests\n",
    "\n",
    "# the only thing that changes is the URL allowing to contact the API 👌\n",
    "url = \"https://name-of-my-image-in-kebab-case-xi54eseqrq-ew.a.run.app/predict\"\n",
    "\n",
    "params = dict(pickup_datetime=\"2020-12-12 12:12:12 UTC\",\n",
    "              lon1=\"41.123456\",\n",
    "              lat1=\"41.123456\",\n",
    "              lon2=\"41.123456\",\n",
    "              lat2=\"41.123456\",\n",
    "              passcount=\"3\")\n",
    "\n",
    "result = requests.get(url, params=params).json()\n",
    "\n",
    "result[\"pred\"]"
   ]
  }
 ],
 "metadata": {
  "kernelspec": {
   "display_name": "Python 3",
   "language": "python",
   "name": "python3"
  },
  "language_info": {
   "codemirror_mode": {
    "name": "ipython",
    "version": 3
   },
   "file_extension": ".py",
   "mimetype": "text/x-python",
   "name": "python",
   "nbconvert_exporter": "python",
   "pygments_lexer": "ipython3",
   "version": "3.8.6"
  },
  "toc": {
   "base_numbering": 1,
   "nav_menu": {},
   "number_sections": true,
   "sideBar": true,
   "skip_h1_title": false,
   "title_cell": "Table of Contents",
   "title_sidebar": "Contents",
   "toc_cell": false,
   "toc_position": {},
   "toc_section_display": true,
   "toc_window_display": false
  },
  "varInspector": {
   "cols": {
    "lenName": 16,
    "lenType": 16,
    "lenVar": 40
   },
   "kernels_config": {
    "python": {
     "delete_cmd_postfix": "",
     "delete_cmd_prefix": "del ",
     "library": "var_list.py",
     "varRefreshCmd": "print(var_dic_list())"
    },
    "r": {
     "delete_cmd_postfix": ") ",
     "delete_cmd_prefix": "rm(",
     "library": "var_list.r",
     "varRefreshCmd": "cat(var_dic_list()) "
    }
   },
   "types_to_exclude": [
    "module",
    "function",
    "builtin_function_or_method",
    "instance",
    "_Feature"
   ],
   "window_display": false
  }
 },
 "nbformat": 4,
 "nbformat_minor": 4
}
