{
 "cells": [
  {
   "cell_type": "code",
   "execution_count": 1,
   "id": "instructional-electric",
   "metadata": {},
   "outputs": [],
   "source": [
    "import numpy as np # linear algebra\n",
    "import pandas as pd # data processing, CSV file I/O (e.g. pd.read_csv)\n",
    "import h5py\n",
    "# import skimage\n",
    "import matplotlib.pyplot as plt\n",
    "import sys\n",
    "# Input data files are avahilable in the \"../input/\" directory.\n",
    "# For example, running this (by clicking run or pressing Shift+Enter) will list the files in the input directory\n"
   ]
  },
  {
   "cell_type": "code",
   "execution_count": 2,
   "id": "second-terrace",
   "metadata": {},
   "outputs": [
    {
     "name": "stdout",
     "output_type": "stream",
     "text": [
      "['category', 'category_names', 'images']\n",
      "10099\n",
      "101\n",
      "10099\n"
     ]
    }
   ],
   "source": [
    "# Any results you write to the current directory are saved as output.\n",
    "\n",
    "#File Format\n",
    "#f=h5py.File('../input/food_c101_n1000_r384x384x3.h5','r')\n",
    "f=h5py.File('../raw_data/dataset_food/food_c101_n10099_r64x64x3.h5','r')\n",
    "print(list(f.keys()))\n",
    "print(len(f[\"category\"]))\n",
    "print(len(f[\"category_names\"]))\n",
    "print(len(f[\"images\"]))"
   ]
  },
  {
   "cell_type": "code",
   "execution_count": 3,
   "id": "sunrise-remark",
   "metadata": {},
   "outputs": [
    {
     "data": {
      "text/plain": [
       "<HDF5 dataset \"category\": shape (10099, 101), type \"|b1\">"
      ]
     },
     "execution_count": 3,
     "metadata": {},
     "output_type": "execute_result"
    }
   ],
   "source": [
    "f['category']"
   ]
  },
  {
   "cell_type": "code",
   "execution_count": 4,
   "id": "tropical-animal",
   "metadata": {},
   "outputs": [
    {
     "data": {
      "text/plain": [
       "((10099, 64, 64, 3), (10099, 101), (101,))"
      ]
     },
     "execution_count": 4,
     "metadata": {},
     "output_type": "execute_result"
    }
   ],
   "source": [
    "f['images'].shape, f['category'].shape, f['category_names'].shape"
   ]
  },
  {
   "cell_type": "code",
   "execution_count": 5,
   "id": "impaired-queue",
   "metadata": {},
   "outputs": [
    {
     "data": {
      "text/plain": [
       "((64, 64, 3),\n",
       " array([False, False, False, False, False, False, False, False, False,\n",
       "        False, False, False, False, False, False, False, False, False,\n",
       "        False, False, False, False, False, False, False, False, False,\n",
       "        False, False, False, False, False, False, False, False, False,\n",
       "        False, False, False, False, False, False, False, False, False,\n",
       "        False, False, False, False, False, False, False, False, False,\n",
       "        False, False, False, False, False, False,  True, False, False,\n",
       "        False, False, False, False, False, False, False, False, False,\n",
       "        False, False, False, False, False, False, False, False, False,\n",
       "        False, False, False, False, False, False, False, False, False,\n",
       "        False, False, False, False, False, False, False, False, False,\n",
       "        False, False]),\n",
       " b'beef_carpaccio')"
      ]
     },
     "execution_count": 5,
     "metadata": {},
     "output_type": "execute_result"
    }
   ],
   "source": [
    "f['images'][3].shape, f['category'][3], f['category_names'][3]"
   ]
  },
  {
   "cell_type": "code",
   "execution_count": 6,
   "id": "adverse-beatles",
   "metadata": {},
   "outputs": [
    {
     "data": {
      "text/plain": [
       "array([0, 0, 0, 0, 0, 0, 0, 0, 0, 0, 0, 0, 0, 0, 0, 0, 0, 0, 0, 0, 0, 0,\n",
       "       0, 0, 0, 0, 0, 0, 0, 0, 0, 0, 0, 0, 0, 0, 0, 0, 0, 0, 0, 0, 0, 0,\n",
       "       0, 0, 0, 0, 0, 0, 0, 0, 0, 0, 0, 0, 0, 0, 0, 0, 1, 0, 0, 0, 0, 0,\n",
       "       0, 0, 0, 0, 0, 0, 0, 0, 0, 0, 0, 0, 0, 0, 0, 0, 0, 0, 0, 0, 0, 0,\n",
       "       0, 0, 0, 0, 0, 0, 0, 0, 0, 0, 0, 0, 0])"
      ]
     },
     "execution_count": 6,
     "metadata": {},
     "output_type": "execute_result"
    }
   ],
   "source": [
    "a = f['category'][3].astype(int)\n",
    "a"
   ]
  },
  {
   "cell_type": "code",
   "execution_count": 7,
   "id": "architectural-wilson",
   "metadata": {},
   "outputs": [
    {
     "data": {
      "text/plain": [
       "60"
      ]
     },
     "execution_count": 7,
     "metadata": {},
     "output_type": "execute_result"
    }
   ],
   "source": [
    "np.where(a == 1)[0][0]"
   ]
  },
  {
   "cell_type": "code",
   "execution_count": 8,
   "id": "commercial-library",
   "metadata": {},
   "outputs": [
    {
     "data": {
      "text/plain": [
       "b'lobster_bisque'"
      ]
     },
     "execution_count": 8,
     "metadata": {},
     "output_type": "execute_result"
    }
   ],
   "source": [
    "f['category_names'][np.where(a == 1)[0][0]]"
   ]
  },
  {
   "cell_type": "code",
   "execution_count": 9,
   "id": "loved-custom",
   "metadata": {},
   "outputs": [],
   "source": [
    "# Print Sample Pictures\n",
    "# print([int(i) for i in f[\"category\"][0]])\n",
    "# print(f[\"images\"][0].shape)\n",
    "# fig=plt.figure(figsize=(20,20))\n",
    "# n=25\n",
    "# col=5\n",
    "# for i in range(n):\n",
    "#     ax=fig.add_subplot(n/col,col,i+1)\n",
    "#     #ax.set_title(f[\"category_names\"][i].decode())\n",
    "#     ax.imshow(f[\"images\"][i])"
   ]
  },
  {
   "cell_type": "code",
   "execution_count": 10,
   "id": "boring-stone",
   "metadata": {},
   "outputs": [
    {
     "data": {
      "text/plain": [
       "array([[False, False, False, ..., False, False, False],\n",
       "       [False, False, False, ..., False, False, False],\n",
       "       [False, False, False, ..., False, False, False],\n",
       "       ...,\n",
       "       [False, False, False, ..., False, False, False],\n",
       "       [False, False, False, ..., False, False, False],\n",
       "       [False, False, False, ..., False, False, False]])"
      ]
     },
     "execution_count": 10,
     "metadata": {},
     "output_type": "execute_result"
    }
   ],
   "source": [
    "f['category'][:]"
   ]
  },
  {
   "cell_type": "code",
   "execution_count": 11,
   "id": "soviet-portsmouth",
   "metadata": {},
   "outputs": [
    {
     "data": {
      "text/plain": [
       "array([b'apple_pie', b'baby_back_ribs', b'baklava', b'beef_carpaccio',\n",
       "       b'beef_tartare', b'beet_salad', b'beignets', b'bibimbap',\n",
       "       b'bread_pudding', b'breakfast_burrito', b'bruschetta',\n",
       "       b'caesar_salad', b'cannoli', b'caprese_salad', b'carrot_cake',\n",
       "       b'ceviche', b'cheese_plate', b'cheesecake', b'chicken_curry',\n",
       "       b'chicken_quesadilla', b'chicken_wings', b'chocolate_cake',\n",
       "       b'chocolate_mousse', b'churros', b'clam_chowder', b'club_sandwich',\n",
       "       b'crab_cakes', b'creme_brulee', b'croque_madame', b'cup_cakes',\n",
       "       b'deviled_eggs', b'donuts', b'dumplings', b'edamame',\n",
       "       b'eggs_benedict', b'escargots', b'falafel', b'filet_mignon',\n",
       "       b'fish_and_chips', b'foie_gras', b'french_fries',\n",
       "       b'french_onion_soup', b'french_toast', b'fried_calamari',\n",
       "       b'fried_rice', b'frozen_yogurt', b'garlic_bread', b'gnocchi',\n",
       "       b'greek_salad', b'grilled_cheese_sandwich', b'grilled_salmon',\n",
       "       b'guacamole', b'gyoza', b'hamburger', b'hot_and_sour_soup',\n",
       "       b'hot_dog', b'huevos_rancheros', b'hummus', b'ice_cream',\n",
       "       b'lasagna', b'lobster_bisque', b'lobster_roll_sandwich',\n",
       "       b'macaroni_and_cheese', b'macarons', b'miso_soup', b'mussels',\n",
       "       b'nachos', b'omelette', b'onion_rings', b'oysters', b'pad_thai',\n",
       "       b'paella', b'pancakes', b'panna_cotta', b'peking_duck', b'pho',\n",
       "       b'pizza', b'pork_chop', b'poutine', b'prime_rib',\n",
       "       b'pulled_pork_sandwich', b'ramen', b'ravioli', b'red_velvet_cake',\n",
       "       b'risotto', b'samosa', b'sashimi', b'scallops', b'seaweed_salad',\n",
       "       b'shrimp_and_grits', b'spaghetti_bolognese',\n",
       "       b'spaghetti_carbonara', b'spring_rolls', b'steak',\n",
       "       b'strawberry_shortcake', b'sushi', b'tacos', b'takoyaki',\n",
       "       b'tiramisu', b'tuna_tartare', b'waffles'], dtype='|S40')"
      ]
     },
     "execution_count": 11,
     "metadata": {},
     "output_type": "execute_result"
    }
   ],
   "source": [
    "f['category_names'][:]"
   ]
  },
  {
   "cell_type": "code",
   "execution_count": 12,
   "id": "altered-bible",
   "metadata": {},
   "outputs": [
    {
     "data": {
      "text/plain": [
       "33"
      ]
     },
     "execution_count": 12,
     "metadata": {},
     "output_type": "execute_result"
    }
   ],
   "source": [
    "target = f['category'][:].astype(int)\n",
    "np.where(target[0] == 1)[0][0]"
   ]
  },
  {
   "cell_type": "code",
   "execution_count": 13,
   "id": "hourly-sight",
   "metadata": {},
   "outputs": [
    {
     "data": {
      "text/plain": [
       "array([b'apple_pie', b'baby_back_ribs', b'baklava', b'beef_carpaccio',\n",
       "       b'beef_tartare', b'beet_salad', b'beignets', b'bibimbap',\n",
       "       b'bread_pudding', b'breakfast_burrito', b'bruschetta',\n",
       "       b'caesar_salad', b'cannoli', b'caprese_salad', b'carrot_cake',\n",
       "       b'ceviche', b'cheese_plate', b'cheesecake', b'chicken_curry',\n",
       "       b'chicken_quesadilla', b'chicken_wings', b'chocolate_cake',\n",
       "       b'chocolate_mousse', b'churros', b'clam_chowder', b'club_sandwich',\n",
       "       b'crab_cakes', b'creme_brulee', b'croque_madame', b'cup_cakes',\n",
       "       b'deviled_eggs', b'donuts', b'dumplings', b'edamame',\n",
       "       b'eggs_benedict', b'escargots', b'falafel', b'filet_mignon',\n",
       "       b'fish_and_chips', b'foie_gras', b'french_fries',\n",
       "       b'french_onion_soup', b'french_toast', b'fried_calamari',\n",
       "       b'fried_rice', b'frozen_yogurt', b'garlic_bread', b'gnocchi',\n",
       "       b'greek_salad', b'grilled_cheese_sandwich', b'grilled_salmon',\n",
       "       b'guacamole', b'gyoza', b'hamburger', b'hot_and_sour_soup',\n",
       "       b'hot_dog', b'huevos_rancheros', b'hummus', b'ice_cream',\n",
       "       b'lasagna', b'lobster_bisque', b'lobster_roll_sandwich',\n",
       "       b'macaroni_and_cheese', b'macarons', b'miso_soup', b'mussels',\n",
       "       b'nachos', b'omelette', b'onion_rings', b'oysters', b'pad_thai',\n",
       "       b'paella', b'pancakes', b'panna_cotta', b'peking_duck', b'pho',\n",
       "       b'pizza', b'pork_chop', b'poutine', b'prime_rib',\n",
       "       b'pulled_pork_sandwich', b'ramen', b'ravioli', b'red_velvet_cake',\n",
       "       b'risotto', b'samosa', b'sashimi', b'scallops', b'seaweed_salad',\n",
       "       b'shrimp_and_grits', b'spaghetti_bolognese',\n",
       "       b'spaghetti_carbonara', b'spring_rolls', b'steak',\n",
       "       b'strawberry_shortcake', b'sushi', b'tacos', b'takoyaki',\n",
       "       b'tiramisu', b'tuna_tartare', b'waffles'], dtype='|S40')"
      ]
     },
     "execution_count": 13,
     "metadata": {},
     "output_type": "execute_result"
    }
   ],
   "source": [
    "names = f['category_names'][:]\n",
    "names"
   ]
  },
  {
   "cell_type": "code",
   "execution_count": 14,
   "id": "corrected-multimedia",
   "metadata": {},
   "outputs": [
    {
     "data": {
      "text/plain": [
       "b'edamame'"
      ]
     },
     "execution_count": 14,
     "metadata": {},
     "output_type": "execute_result"
    }
   ],
   "source": [
    "names[np.where(target[0] == 1)[0][0]]"
   ]
  },
  {
   "cell_type": "code",
   "execution_count": 15,
   "id": "meaning-governor",
   "metadata": {},
   "outputs": [
    {
     "data": {
      "text/plain": [
       "(10099, 101)"
      ]
     },
     "execution_count": 15,
     "metadata": {},
     "output_type": "execute_result"
    }
   ],
   "source": [
    "target.shape"
   ]
  },
  {
   "cell_type": "code",
   "execution_count": 16,
   "id": "julian-julian",
   "metadata": {},
   "outputs": [
    {
     "data": {
      "text/plain": [
       "b'edamame'"
      ]
     },
     "execution_count": 16,
     "metadata": {},
     "output_type": "execute_result"
    }
   ],
   "source": [
    "names[np.where(target[0] == 1)][0]"
   ]
  },
  {
   "cell_type": "code",
   "execution_count": 17,
   "id": "valued-ratio",
   "metadata": {},
   "outputs": [
    {
     "data": {
      "text/plain": [
       "array([0, 0, 0, 0, 0, 0, 0, 0, 0, 0, 0, 0, 0, 0, 0, 0, 0, 0, 0, 0, 0, 0,\n",
       "       0, 0, 0, 0, 0, 0, 0, 0, 0, 0, 0, 0, 0, 0, 0, 0, 0, 0, 0, 0, 0, 0,\n",
       "       0, 0, 0, 0, 0, 0, 0, 0, 0, 0, 0, 0, 0, 0, 0, 0, 1, 0, 0, 0, 0, 0,\n",
       "       0, 0, 0, 0, 0, 0, 0, 0, 0, 0, 0, 0, 0, 0, 0, 0, 0, 0, 0, 0, 0, 0,\n",
       "       0, 0, 0, 0, 0, 0, 0, 0, 0, 0, 0, 0, 0])"
      ]
     },
     "execution_count": 17,
     "metadata": {},
     "output_type": "execute_result"
    }
   ],
   "source": [
    "target[3]"
   ]
  },
  {
   "cell_type": "code",
   "execution_count": 18,
   "id": "artistic-peace",
   "metadata": {},
   "outputs": [],
   "source": [
    "sorted_df = pd.DataFrame(target, columns=[names]).sum()"
   ]
  },
  {
   "cell_type": "code",
   "execution_count": 19,
   "id": "verified-judgment",
   "metadata": {},
   "outputs": [],
   "source": [
    "cats = pd.DataFrame(sorted_df, columns=['Count'])"
   ]
  },
  {
   "cell_type": "code",
   "execution_count": 20,
   "id": "permanent-peeing",
   "metadata": {},
   "outputs": [
    {
     "data": {
      "text/html": [
       "<div>\n",
       "<style scoped>\n",
       "    .dataframe tbody tr th:only-of-type {\n",
       "        vertical-align: middle;\n",
       "    }\n",
       "\n",
       "    .dataframe tbody tr th {\n",
       "        vertical-align: top;\n",
       "    }\n",
       "\n",
       "    .dataframe thead th {\n",
       "        text-align: right;\n",
       "    }\n",
       "</style>\n",
       "<table border=\"1\" class=\"dataframe\">\n",
       "  <thead>\n",
       "    <tr style=\"text-align: right;\">\n",
       "      <th></th>\n",
       "      <th>Count</th>\n",
       "    </tr>\n",
       "  </thead>\n",
       "  <tbody>\n",
       "    <tr>\n",
       "      <th>b'scallops'</th>\n",
       "      <td>73</td>\n",
       "    </tr>\n",
       "    <tr>\n",
       "      <th>b'french_toast'</th>\n",
       "      <td>77</td>\n",
       "    </tr>\n",
       "    <tr>\n",
       "      <th>b'poutine'</th>\n",
       "      <td>84</td>\n",
       "    </tr>\n",
       "    <tr>\n",
       "      <th>b'crab_cakes'</th>\n",
       "      <td>85</td>\n",
       "    </tr>\n",
       "    <tr>\n",
       "      <th>b'tacos'</th>\n",
       "      <td>85</td>\n",
       "    </tr>\n",
       "    <tr>\n",
       "      <th>...</th>\n",
       "      <td>...</td>\n",
       "    </tr>\n",
       "    <tr>\n",
       "      <th>b'omelette'</th>\n",
       "      <td>117</td>\n",
       "    </tr>\n",
       "    <tr>\n",
       "      <th>b'ice_cream'</th>\n",
       "      <td>117</td>\n",
       "    </tr>\n",
       "    <tr>\n",
       "      <th>b'croque_madame'</th>\n",
       "      <td>117</td>\n",
       "    </tr>\n",
       "    <tr>\n",
       "      <th>b'red_velvet_cake'</th>\n",
       "      <td>117</td>\n",
       "    </tr>\n",
       "    <tr>\n",
       "      <th>b'caprese_salad'</th>\n",
       "      <td>118</td>\n",
       "    </tr>\n",
       "  </tbody>\n",
       "</table>\n",
       "<p>101 rows × 1 columns</p>\n",
       "</div>"
      ],
      "text/plain": [
       "                    Count\n",
       "b'scallops'            73\n",
       "b'french_toast'        77\n",
       "b'poutine'             84\n",
       "b'crab_cakes'          85\n",
       "b'tacos'               85\n",
       "...                   ...\n",
       "b'omelette'           117\n",
       "b'ice_cream'          117\n",
       "b'croque_madame'      117\n",
       "b'red_velvet_cake'    117\n",
       "b'caprese_salad'      118\n",
       "\n",
       "[101 rows x 1 columns]"
      ]
     },
     "execution_count": 20,
     "metadata": {},
     "output_type": "execute_result"
    }
   ],
   "source": [
    "cats.sort_values(by='Count')"
   ]
  },
  {
   "cell_type": "code",
   "execution_count": 59,
   "id": "specific-first",
   "metadata": {},
   "outputs": [
    {
     "data": {
      "text/html": [
       "<div>\n",
       "<style scoped>\n",
       "    .dataframe tbody tr th:only-of-type {\n",
       "        vertical-align: middle;\n",
       "    }\n",
       "\n",
       "    .dataframe tbody tr th {\n",
       "        vertical-align: top;\n",
       "    }\n",
       "\n",
       "    .dataframe thead th {\n",
       "        text-align: right;\n",
       "    }\n",
       "</style>\n",
       "<table border=\"1\" class=\"dataframe\">\n",
       "  <thead>\n",
       "    <tr style=\"text-align: right;\">\n",
       "      <th></th>\n",
       "      <th>Count</th>\n",
       "    </tr>\n",
       "  </thead>\n",
       "  <tbody>\n",
       "    <tr>\n",
       "      <th>count</th>\n",
       "      <td>101.000000</td>\n",
       "    </tr>\n",
       "    <tr>\n",
       "      <th>mean</th>\n",
       "      <td>99.990099</td>\n",
       "    </tr>\n",
       "    <tr>\n",
       "      <th>std</th>\n",
       "      <td>8.527010</td>\n",
       "    </tr>\n",
       "    <tr>\n",
       "      <th>min</th>\n",
       "      <td>73.000000</td>\n",
       "    </tr>\n",
       "    <tr>\n",
       "      <th>25%</th>\n",
       "      <td>95.000000</td>\n",
       "    </tr>\n",
       "    <tr>\n",
       "      <th>50%</th>\n",
       "      <td>100.000000</td>\n",
       "    </tr>\n",
       "    <tr>\n",
       "      <th>75%</th>\n",
       "      <td>105.000000</td>\n",
       "    </tr>\n",
       "    <tr>\n",
       "      <th>max</th>\n",
       "      <td>118.000000</td>\n",
       "    </tr>\n",
       "  </tbody>\n",
       "</table>\n",
       "</div>"
      ],
      "text/plain": [
       "            Count\n",
       "count  101.000000\n",
       "mean    99.990099\n",
       "std      8.527010\n",
       "min     73.000000\n",
       "25%     95.000000\n",
       "50%    100.000000\n",
       "75%    105.000000\n",
       "max    118.000000"
      ]
     },
     "execution_count": 59,
     "metadata": {},
     "output_type": "execute_result"
    }
   ],
   "source": [
    "cats.sort_values(by='Count').describe()"
   ]
  },
  {
   "cell_type": "code",
   "execution_count": 23,
   "id": "assured-render",
   "metadata": {},
   "outputs": [],
   "source": [
    "images = f['images'][:]"
   ]
  },
  {
   "cell_type": "code",
   "execution_count": 26,
   "id": "aggressive-digest",
   "metadata": {},
   "outputs": [],
   "source": [
    "from tensorflow.keras.preprocessing.image import ImageDataGenerator"
   ]
  },
  {
   "cell_type": "code",
   "execution_count": null,
   "id": "mechanical-button",
   "metadata": {},
   "outputs": [],
   "source": []
  }
 ],
 "metadata": {
  "kernelspec": {
   "display_name": "Python 3",
   "language": "python",
   "name": "python3"
  },
  "language_info": {
   "codemirror_mode": {
    "name": "ipython",
    "version": 3
   },
   "file_extension": ".py",
   "mimetype": "text/x-python",
   "name": "python",
   "nbconvert_exporter": "python",
   "pygments_lexer": "ipython3",
   "version": "3.8.6"
  },
  "toc": {
   "base_numbering": 1,
   "nav_menu": {},
   "number_sections": true,
   "sideBar": true,
   "skip_h1_title": false,
   "title_cell": "Table of Contents",
   "title_sidebar": "Contents",
   "toc_cell": false,
   "toc_position": {},
   "toc_section_display": true,
   "toc_window_display": false
  },
  "varInspector": {
   "cols": {
    "lenName": 16,
    "lenType": 16,
    "lenVar": 40
   },
   "kernels_config": {
    "python": {
     "delete_cmd_postfix": "",
     "delete_cmd_prefix": "del ",
     "library": "var_list.py",
     "varRefreshCmd": "print(var_dic_list())"
    },
    "r": {
     "delete_cmd_postfix": ") ",
     "delete_cmd_prefix": "rm(",
     "library": "var_list.r",
     "varRefreshCmd": "cat(var_dic_list()) "
    }
   },
   "types_to_exclude": [
    "module",
    "function",
    "builtin_function_or_method",
    "instance",
    "_Feature"
   ],
   "window_display": false
  }
 },
 "nbformat": 4,
 "nbformat_minor": 5
}
